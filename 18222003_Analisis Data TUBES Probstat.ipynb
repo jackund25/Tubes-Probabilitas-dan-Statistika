{
 "cells": [
  {
   "cell_type": "markdown",
   "metadata": {},
   "source": [
    "Tubes Prostat TA 2023/2024 semester ganjil\n",
    "|Nama        | Daffari Adiyatma               |\n",
    "|------------|--------------------------------|\n",
    "|NIM         | 18222003                       |\n",
    "|Jurusan     | Sistem dan Teknologi Informasi |\n",
    "|Kelas       | K-01                           |"
   ]
  },
  {
   "cell_type": "code",
   "execution_count": null,
   "metadata": {},
   "outputs": [],
   "source": []
  },
  {
   "cell_type": "markdown",
   "metadata": {},
   "source": [
    "# Loading Library"
   ]
  },
  {
   "cell_type": "code",
   "execution_count": 498,
   "metadata": {},
   "outputs": [],
   "source": [
    "import pandas as pd\n",
    "import numpy as np\n",
    "import matplotlib.pyplot as plt\n",
    "import seaborn as sns"
   ]
  },
  {
   "cell_type": "code",
   "execution_count": 499,
   "metadata": {},
   "outputs": [],
   "source": [
    "# membaca dataset\n",
    "df = pd.read_excel('18222003.xlsx')"
   ]
  },
  {
   "cell_type": "code",
   "execution_count": 500,
   "metadata": {},
   "outputs": [
    {
     "data": {
      "text/html": [
       "<div>\n",
       "<style scoped>\n",
       "    .dataframe tbody tr th:only-of-type {\n",
       "        vertical-align: middle;\n",
       "    }\n",
       "\n",
       "    .dataframe tbody tr th {\n",
       "        vertical-align: top;\n",
       "    }\n",
       "\n",
       "    .dataframe thead th {\n",
       "        text-align: right;\n",
       "    }\n",
       "</style>\n",
       "<table border=\"1\" class=\"dataframe\">\n",
       "  <thead>\n",
       "    <tr style=\"text-align: right;\">\n",
       "      <th></th>\n",
       "      <th>Jenis Kelamin</th>\n",
       "      <th>Usia</th>\n",
       "      <th>Pendidikan Terakhir</th>\n",
       "      <th>Pekerjaan</th>\n",
       "      <th>Penghasilan per Bulan</th>\n",
       "      <th>Domisili</th>\n",
       "      <th>Durasi Penggunaan Internet per Hari (dalam Jam)</th>\n",
       "      <th>Aktivitas Online Meningkat</th>\n",
       "      <th>Aktivitas yang Meningkat dalam 3 Bulan Terakhir</th>\n",
       "      <th>layanan_aktif_1</th>\n",
       "      <th>...</th>\n",
       "      <th>cara_pembayaran_belanja_online_5</th>\n",
       "      <th>cara_pembayaran_belanja_online_6</th>\n",
       "      <th>cara_pembayaran_belanja_online_7</th>\n",
       "      <th>cara_pembayaran_belanja_online_8</th>\n",
       "      <th>keluhan_belanja_online_1</th>\n",
       "      <th>keluhan_belanja_online_2</th>\n",
       "      <th>keluhan_belanja_online_3</th>\n",
       "      <th>keluhan_belanja_online_4</th>\n",
       "      <th>keluhan_belanja_online_5</th>\n",
       "      <th>keluhan_belanja_online_6</th>\n",
       "    </tr>\n",
       "  </thead>\n",
       "  <tbody>\n",
       "    <tr>\n",
       "      <th>0</th>\n",
       "      <td>Pria</td>\n",
       "      <td>21</td>\n",
       "      <td>S1</td>\n",
       "      <td>Pelajar / Mahasiswa</td>\n",
       "      <td>Rp 5 juta – Rp 10 juta</td>\n",
       "      <td>Tangerang</td>\n",
       "      <td>NaN</td>\n",
       "      <td>Ya</td>\n",
       "      <td>Streaming video/ film</td>\n",
       "      <td>Mobile Banking</td>\n",
       "      <td>...</td>\n",
       "      <td>NaN</td>\n",
       "      <td>NaN</td>\n",
       "      <td>NaN</td>\n",
       "      <td>NaN</td>\n",
       "      <td>Barang yang diperoleh tidak sesuai dengan spes...</td>\n",
       "      <td>Barang rusak/ salah tetapi tidak dapat dikemba...</td>\n",
       "      <td>Pembayaran sudah dilakukan; barang tidak tersedia</td>\n",
       "      <td>Jumlah barang yang diterima kurang</td>\n",
       "      <td>NaN</td>\n",
       "      <td>NaN</td>\n",
       "    </tr>\n",
       "    <tr>\n",
       "      <th>1</th>\n",
       "      <td>Pria</td>\n",
       "      <td>46</td>\n",
       "      <td>D3</td>\n",
       "      <td>Karyawan Swasta</td>\n",
       "      <td>&gt; Rp 10 juta</td>\n",
       "      <td>Semarang</td>\n",
       "      <td>300%</td>\n",
       "      <td>Ya</td>\n",
       "      <td>Melakukan video conference</td>\n",
       "      <td>Mobile Banking</td>\n",
       "      <td>...</td>\n",
       "      <td>NaN</td>\n",
       "      <td>Kartu Kredit / Debit Online</td>\n",
       "      <td>NaN</td>\n",
       "      <td>NaN</td>\n",
       "      <td>Barang yang diperoleh tidak sesuai dengan spes...</td>\n",
       "      <td>NaN</td>\n",
       "      <td>NaN</td>\n",
       "      <td>Jumlah barang yang diterima kurang</td>\n",
       "      <td>NaN</td>\n",
       "      <td>NaN</td>\n",
       "    </tr>\n",
       "    <tr>\n",
       "      <th>2</th>\n",
       "      <td>Pria</td>\n",
       "      <td>19</td>\n",
       "      <td>SMA</td>\n",
       "      <td>Pelajar / Mahasiswa</td>\n",
       "      <td>&lt; Rp 2 juta</td>\n",
       "      <td>Tangerang</td>\n",
       "      <td>1200%</td>\n",
       "      <td>Sama saja</td>\n",
       "      <td>Game online</td>\n",
       "      <td>Mobile Banking</td>\n",
       "      <td>...</td>\n",
       "      <td>Transfer via ATM</td>\n",
       "      <td>NaN</td>\n",
       "      <td>NaN</td>\n",
       "      <td>NaN</td>\n",
       "      <td>Barang yang diperoleh tidak sesuai dengan spes...</td>\n",
       "      <td>NaN</td>\n",
       "      <td>NaN</td>\n",
       "      <td>NaN</td>\n",
       "      <td>NaN</td>\n",
       "      <td>NaN</td>\n",
       "    </tr>\n",
       "    <tr>\n",
       "      <th>3</th>\n",
       "      <td>Wanita</td>\n",
       "      <td>19</td>\n",
       "      <td>SMA</td>\n",
       "      <td>Pelajar / Mahasiswa</td>\n",
       "      <td>&lt; Rp 2 juta</td>\n",
       "      <td>Bandung</td>\n",
       "      <td>1000%</td>\n",
       "      <td>Ya</td>\n",
       "      <td>Berbelanja online</td>\n",
       "      <td>Mobile Banking</td>\n",
       "      <td>...</td>\n",
       "      <td>NaN</td>\n",
       "      <td>NaN</td>\n",
       "      <td>NaN</td>\n",
       "      <td>NaN</td>\n",
       "      <td>Barang yang diperoleh tidak sesuai dengan spes...</td>\n",
       "      <td>NaN</td>\n",
       "      <td>NaN</td>\n",
       "      <td>Jumlah barang yang diterima kurang</td>\n",
       "      <td>NaN</td>\n",
       "      <td>NaN</td>\n",
       "    </tr>\n",
       "    <tr>\n",
       "      <th>4</th>\n",
       "      <td>Pria</td>\n",
       "      <td>43</td>\n",
       "      <td>S1</td>\n",
       "      <td>Pegawai Negeri</td>\n",
       "      <td>&gt; Rp 10 juta</td>\n",
       "      <td>Tangerang</td>\n",
       "      <td>800%</td>\n",
       "      <td>Ya</td>\n",
       "      <td>Mengikuti kelas online</td>\n",
       "      <td>NaN</td>\n",
       "      <td>...</td>\n",
       "      <td>NaN</td>\n",
       "      <td>Kartu Kredit / Debit Online</td>\n",
       "      <td>NaN</td>\n",
       "      <td>NaN</td>\n",
       "      <td>Barang yang diperoleh tidak sesuai dengan spes...</td>\n",
       "      <td>NaN</td>\n",
       "      <td>NaN</td>\n",
       "      <td>NaN</td>\n",
       "      <td>NaN</td>\n",
       "      <td>NaN</td>\n",
       "    </tr>\n",
       "  </tbody>\n",
       "</table>\n",
       "<p>5 rows × 150 columns</p>\n",
       "</div>"
      ],
      "text/plain": [
       "  Jenis Kelamin  Usia Pendidikan Terakhir            Pekerjaan  \\\n",
       "0          Pria    21                  S1  Pelajar / Mahasiswa   \n",
       "1          Pria    46                  D3      Karyawan Swasta   \n",
       "2          Pria    19                 SMA  Pelajar / Mahasiswa   \n",
       "3        Wanita    19                 SMA  Pelajar / Mahasiswa   \n",
       "4          Pria    43                  S1       Pegawai Negeri   \n",
       "\n",
       "    Penghasilan per Bulan   Domisili  \\\n",
       "0  Rp 5 juta – Rp 10 juta  Tangerang   \n",
       "1            > Rp 10 juta   Semarang   \n",
       "2             < Rp 2 juta  Tangerang   \n",
       "3             < Rp 2 juta    Bandung   \n",
       "4            > Rp 10 juta  Tangerang   \n",
       "\n",
       "  Durasi Penggunaan Internet per Hari (dalam Jam) Aktivitas Online Meningkat  \\\n",
       "0                                             NaN                         Ya   \n",
       "1                                            300%                         Ya   \n",
       "2                                           1200%                  Sama saja   \n",
       "3                                           1000%                         Ya   \n",
       "4                                            800%                         Ya   \n",
       "\n",
       "  Aktivitas yang Meningkat dalam 3 Bulan Terakhir layanan_aktif_1  ...  \\\n",
       "0                           Streaming video/ film  Mobile Banking  ...   \n",
       "1                      Melakukan video conference  Mobile Banking  ...   \n",
       "2                                     Game online  Mobile Banking  ...   \n",
       "3                               Berbelanja online  Mobile Banking  ...   \n",
       "4                          Mengikuti kelas online             NaN  ...   \n",
       "\n",
       "  cara_pembayaran_belanja_online_5 cara_pembayaran_belanja_online_6  \\\n",
       "0                              NaN                              NaN   \n",
       "1                              NaN      Kartu Kredit / Debit Online   \n",
       "2                 Transfer via ATM                              NaN   \n",
       "3                              NaN                              NaN   \n",
       "4                              NaN      Kartu Kredit / Debit Online   \n",
       "\n",
       "  cara_pembayaran_belanja_online_7 cara_pembayaran_belanja_online_8  \\\n",
       "0                              NaN                              NaN   \n",
       "1                              NaN                              NaN   \n",
       "2                              NaN                              NaN   \n",
       "3                              NaN                              NaN   \n",
       "4                              NaN                              NaN   \n",
       "\n",
       "                            keluhan_belanja_online_1  \\\n",
       "0  Barang yang diperoleh tidak sesuai dengan spes...   \n",
       "1  Barang yang diperoleh tidak sesuai dengan spes...   \n",
       "2  Barang yang diperoleh tidak sesuai dengan spes...   \n",
       "3  Barang yang diperoleh tidak sesuai dengan spes...   \n",
       "4  Barang yang diperoleh tidak sesuai dengan spes...   \n",
       "\n",
       "                            keluhan_belanja_online_2  \\\n",
       "0  Barang rusak/ salah tetapi tidak dapat dikemba...   \n",
       "1                                                NaN   \n",
       "2                                                NaN   \n",
       "3                                                NaN   \n",
       "4                                                NaN   \n",
       "\n",
       "                            keluhan_belanja_online_3  \\\n",
       "0  Pembayaran sudah dilakukan; barang tidak tersedia   \n",
       "1                                                NaN   \n",
       "2                                                NaN   \n",
       "3                                                NaN   \n",
       "4                                                NaN   \n",
       "\n",
       "             keluhan_belanja_online_4 keluhan_belanja_online_5  \\\n",
       "0  Jumlah barang yang diterima kurang                      NaN   \n",
       "1  Jumlah barang yang diterima kurang                      NaN   \n",
       "2                                 NaN                      NaN   \n",
       "3  Jumlah barang yang diterima kurang                      NaN   \n",
       "4                                 NaN                      NaN   \n",
       "\n",
       "  keluhan_belanja_online_6  \n",
       "0                      NaN  \n",
       "1                      NaN  \n",
       "2                      NaN  \n",
       "3                      NaN  \n",
       "4                      NaN  \n",
       "\n",
       "[5 rows x 150 columns]"
      ]
     },
     "execution_count": 500,
     "metadata": {},
     "output_type": "execute_result"
    }
   ],
   "source": [
    "# Menampilkan 5 data teratas dataset\n",
    "df.head()"
   ]
  },
  {
   "cell_type": "markdown",
   "metadata": {},
   "source": [
    "## 1. Lakukan preliminary analysis pada dataset sampel yang Anda dapatkan untuk menjawab pertanyaan berikut:"
   ]
  },
  {
   "cell_type": "markdown",
   "metadata": {},
   "source": [
    "## a. Dimensi Dataset"
   ]
  },
  {
   "cell_type": "code",
   "execution_count": 501,
   "metadata": {},
   "outputs": [
    {
     "name": "stdout",
     "output_type": "stream",
     "text": [
      "Jumlah Baris: 288\n",
      "Jumlah Kolom: 150\n"
     ]
    }
   ],
   "source": [
    "# Mendapatkan jumlah baris\n",
    "jumlah_baris = len(df)\n",
    "\n",
    "# Mendapatkan jumlah kolom\n",
    "jumlah_kolom = len(df.columns)\n",
    "\n",
    "print(\"Jumlah Baris:\", jumlah_baris)\n",
    "print(\"Jumlah Kolom:\", jumlah_kolom)"
   ]
  },
  {
   "cell_type": "markdown",
   "metadata": {},
   "source": [
    "## b. Menghitung jumlah missing value per kolom"
   ]
  },
  {
   "cell_type": "code",
   "execution_count": 502,
   "metadata": {},
   "outputs": [
    {
     "name": "stdout",
     "output_type": "stream",
     "text": [
      "Jumlah Missing Value per Kolom:\n",
      "Jenis Kelamin                                                                                                                                                                   0\n",
      "Usia                                                                                                                                                                            0\n",
      "Pendidikan Terakhir                                                                                                                                                             0\n",
      "Pekerjaan                                                                                                                                                                       0\n",
      "Penghasilan per Bulan                                                                                                                                                           0\n",
      "Domisili                                                                                                                                                                        0\n",
      "Durasi Penggunaan Internet per Hari (dalam Jam)                                                                                                                                76\n",
      "Aktivitas Online Meningkat                                                                                                                                                      0\n",
      "Aktivitas yang Meningkat dalam 3 Bulan Terakhir                                                                                                                               118\n",
      "layanan_aktif_1                                                                                                                                                                51\n",
      "layanan_aktif_2                                                                                                                                                               109\n",
      "layanan_aktif_3                                                                                                                                                               257\n",
      "layanan_aktif_4                                                                                                                                                               226\n",
      "layanan_aktif_5                                                                                                                                                               272\n",
      "layanan_aktif_6                                                                                                                                                               279\n",
      "bank_1                                                                                                                                                                        223\n",
      "bank_2                                                                                                                                                                        200\n",
      "bank_3                                                                                                                                                                        135\n",
      "bank_4                                                                                                                                                                        282\n",
      "bank_5                                                                                                                                                                        240\n",
      "bank_6                                                                                                                                                                        282\n",
      "bank_7                                                                                                                                                                        282\n",
      "18. Bagaimana frekuensi penggunaan Channel Bank berikut? [ATM]                                                                                                                 45\n",
      "18. Bagaimana frekuensi penggunaan Channel Bank berikut? [Internet Banking ]                                                                                                  166\n",
      "18. Bagaimana frekuensi penggunaan Channel Bank berikut? [Mobile Banking ]                                                                                                     41\n",
      "18. Bagaimana frekuensi penggunaan Channel Bank berikut? [SMS Banking]                                                                                                        211\n",
      "18. Bagaimana frekuensi penggunaan Channel Bank berikut? [Datang ke cabang bank]                                                                                              189\n",
      "19. Manakah channel/ layanan yang lebih Anda sukai ketika Anda akan menggunakan fitur-fitur layanan perbankan berikut? [Cek Saldo ]                                            41\n",
      "19. Manakah channel/ layanan yang lebih Anda sukai ketika Anda akan menggunakan fitur-fitur layanan perbankan berikut? [Mutasi Rekening]                                       68\n",
      "19. Manakah channel/ layanan yang lebih Anda sukai ketika Anda akan menggunakan fitur-fitur layanan perbankan berikut? [Transfer antar rekening (sesama bank)]                 25\n",
      "19. Manakah channel/ layanan yang lebih Anda sukai ketika Anda akan menggunakan fitur-fitur layanan perbankan berikut? [Transfer antar bank]                                   44\n",
      "19. Manakah channel/ layanan yang lebih Anda sukai ketika Anda akan menggunakan fitur-fitur layanan perbankan berikut? [Pembelian Pulsa, eMoney atau voucher-voucher lain]     60\n",
      "19. Manakah channel/ layanan yang lebih Anda sukai ketika Anda akan menggunakan fitur-fitur layanan perbankan berikut? [Pembayaran Tagihan]                                    70\n",
      "keluhan_1                                                                                                                                                                      67\n",
      "keluhan_2                                                                                                                                                                     250\n",
      "keluhan_3                                                                                                                                                                     266\n",
      "keluhan_4                                                                                                                                                                     277\n",
      "emoney_pilihan_1                                                                                                                                                               66\n",
      "emoney_pilihan_2                                                                                                                                                              129\n",
      "emoney_pilihan_3                                                                                                                                                              122\n",
      "emoney_pilihan_4                                                                                                                                                              183\n",
      "emoney_pilihan_5                                                                                                                                                              198\n",
      "emoney_pilihan_6                                                                                                                                                              216\n",
      "emoney_pilihan_7                                                                                                                                                              232\n",
      "emoney_pilihan_8                                                                                                                                                              268\n",
      "emoney_pilihan_9                                                                                                                                                              272\n",
      "emoney_pilihan_10                                                                                                                                                             283\n",
      "emoney_pilihan_11                                                                                                                                                             278\n",
      "alasan_pakai_emoney_1                                                                                                                                                          79\n",
      "alasan_pakai_emoney_2                                                                                                                                                          83\n",
      "alasan_pakai_emoney_3                                                                                                                                                         152\n",
      "alasan_pakai_emoney_4                                                                                                                                                         173\n",
      "alasan_pakai_emoney_5                                                                                                                                                         205\n",
      "penggunaan_emoney_1                                                                                                                                                            90\n",
      "penggunaan_emoney_2                                                                                                                                                           118\n",
      "penggunaan_emoney_3                                                                                                                                                           111\n",
      "penggunaan_emoney_4                                                                                                                                                           154\n",
      "penggunaan_emoney_5                                                                                                                                                           154\n",
      "penggunaan_emoney_6                                                                                                                                                           145\n",
      "penggunaan_emoney_7                                                                                                                                                           173\n",
      "penggunaan_emoney_8                                                                                                                                                           179\n",
      "penggunaan_emoney_9                                                                                                                                                           186\n",
      "penggunaan_emoney_10                                                                                                                                                          214\n",
      "cara_topup_emoney_1                                                                                                                                                            60\n",
      "cara_topup_emoney_2                                                                                                                                                           238\n",
      "cara_topup_emoney_3                                                                                                                                                           244\n",
      "cara_topup_emoney_4                                                                                                                                                           263\n",
      "cara_topup_emoney_5                                                                                                                                                           279\n",
      "cara_topup_emoney_6                                                                                                                                                           279\n",
      "cara_topup_emoney_7                                                                                                                                                           282\n",
      "39. Berapa biasanya nominal Anda melakukan top up/ isi ulang?                                                                                                                  22\n",
      "40. Berapa frekuensi top up/ Isi ulang ?                                                                                                                                       23\n",
      "keluhan_emoney_1                                                                                                                                                              186\n",
      "keluhan_emoney_2                                                                                                                                                              220\n",
      "keluhan_emoney_3                                                                                                                                                              257\n",
      "keluhan_emoney_4                                                                                                                                                              276\n",
      "penggunaan_qr_1                                                                                                                                                                83\n",
      "penggunaan_qr_2                                                                                                                                                               133\n",
      "penggunaan_qr_3                                                                                                                                                               182\n",
      "penggunaan_qr_4                                                                                                                                                               259\n",
      "lokasi_qr_1                                                                                                                                                                   106\n",
      "lokasi_qr_2                                                                                                                                                                   125\n",
      "lokasi_qr_3                                                                                                                                                                   150\n",
      "lokasi_qr_4                                                                                                                                                                   183\n",
      "lokasi_qr_5                                                                                                                                                                   171\n",
      "lokasi_qr_6                                                                                                                                                                   261\n",
      "45. Bagaimana frekuensi Anda melakukan belanja online dalam 6 bulan terakhir?                                                                                                   3\n",
      "belanja_online_meningkat_6bln_terakhir_1                                                                                                                                      205\n",
      "belanja_online_meningkat_6bln_terakhir_2                                                                                                                                      219\n",
      "belanja_online_meningkat_6bln_terakhir_3                                                                                                                                      236\n",
      "belanja_online_meningkat_6bln_terakhir_4                                                                                                                                      233\n",
      "belanja_online_meningkat_6bln_terakhir_5                                                                                                                                      240\n",
      "belanja_online_meningkat_6bln_terakhir_6                                                                                                                                      250\n",
      "belanja_online_meningkat_6bln_terakhir_7                                                                                                                                      251\n",
      "belanja_online_meningkat_6bln_terakhir_8                                                                                                                                      267\n",
      "belanja_online_meningkat_6bln_terakhir_9                                                                                                                                      266\n",
      "belanja_online_meningkat_6bln_terakhir_10                                                                                                                                     266\n",
      "47. Bagaimana kecenderungan Anda jika akan berbelanja hal-hal berikut? [fashion & mode]                                                                                        15\n",
      "47. Bagaimana kecenderungan Anda jika akan berbelanja hal-hal berikut? [groceries / keperluan sehari- hari]                                                                    26\n",
      "47. Bagaimana kecenderungan Anda jika akan berbelanja hal-hal berikut? [handphone]                                                                                             30\n",
      "47. Bagaimana kecenderungan Anda jika akan berbelanja hal-hal berikut? [laptop/computer]                                                                                       33\n",
      "47. Bagaimana kecenderungan Anda jika akan berbelanja hal-hal berikut? [alat elektronik rumah tangga]                                                                          31\n",
      "47. Bagaimana kecenderungan Anda jika akan berbelanja hal-hal berikut? [kosmetik & alat kecantikan/ perawatan badan]                                                           33\n",
      "47. Bagaimana kecenderungan Anda jika akan berbelanja hal-hal berikut? [buku, hobi & koleksi]                                                                                  33\n",
      "47. Bagaimana kecenderungan Anda jika akan berbelanja hal-hal berikut? [pulsa (data & komunikasi)]                                                                             31\n",
      "47. Bagaimana kecenderungan Anda jika akan berbelanja hal-hal berikut? [makanan & minuman]                                                                                     22\n",
      "47. Bagaimana kecenderungan Anda jika akan berbelanja hal-hal berikut? [tiket pesawat tiket kereta api hotel]                                                                  26\n",
      "47. Bagaimana kecenderungan Anda jika akan berbelanja hal-hal berikut? [tiket bioskop tiket wisata]                                                                            36\n",
      "tempat_belanja_online_1                                                                                                                                                        23\n",
      "tempat_belanja_online_2                                                                                                                                                        87\n",
      "tempat_belanja_online_3                                                                                                                                                       246\n",
      "tempat_belanja_online_4                                                                                                                                                       247\n",
      "tempat_belanja_online_5                                                                                                                                                       257\n",
      "tempat_belanja_online_6                                                                                                                                                       272\n",
      "tempat_belanja_online_7                                                                                                                                                       275\n",
      "tempat_belanja_online_8                                                                                                                                                       282\n",
      "ecommerce_pilihan_1                                                                                                                                                            72\n",
      "ecommerce_pilihan_2                                                                                                                                                            82\n",
      "ecommerce_pilihan_3                                                                                                                                                            92\n",
      "ecommerce_pilihan_4                                                                                                                                                           177\n",
      "ecommerce_pilihan_5                                                                                                                                                           243\n",
      "ecommerce_pilihan_6                                                                                                                                                           259\n",
      "ecommerce_pilihan_7                                                                                                                                                           265\n",
      "ecommerce_pilihan_8                                                                                                                                                           266\n",
      "ecommerce_pilihan_9                                                                                                                                                           283\n",
      "ecommerce_pilihan_10                                                                                                                                                          283\n",
      "ecommerce_pilihan_11                                                                                                                                                          287\n",
      "ecommerce_pilihan_12                                                                                                                                                          287\n",
      "50. Apakah Anda pernah menggunakan layanan Food Delivery (pembelian makanan/ minuman secara online )? Jika Pernah, mohon sebutkan layanan yang PALING sering Anda gunakan?      2\n",
      "alasan_belanja_offline_1                                                                                                                                                       67\n",
      "alasan_belanja_offline_2                                                                                                                                                       77\n",
      "alasan_belanja_offline_3                                                                                                                                                      152\n",
      "alasan_belanja_offline_4                                                                                                                                                      153\n",
      "alasan_belanja_offline_5                                                                                                                                                      181\n",
      "alasan_belanja_offline_6                                                                                                                                                      248\n",
      "alasan_belanja_offline_7                                                                                                                                                      280\n",
      "cara_pembayaran_belanja_online_1                                                                                                                                              112\n",
      "cara_pembayaran_belanja_online_2                                                                                                                                              132\n",
      "cara_pembayaran_belanja_online_3                                                                                                                                              144\n",
      "cara_pembayaran_belanja_online_4                                                                                                                                              217\n",
      "cara_pembayaran_belanja_online_5                                                                                                                                              250\n",
      "cara_pembayaran_belanja_online_6                                                                                                                                              250\n",
      "cara_pembayaran_belanja_online_7                                                                                                                                              268\n",
      "cara_pembayaran_belanja_online_8                                                                                                                                              272\n",
      "keluhan_belanja_online_1                                                                                                                                                      123\n",
      "keluhan_belanja_online_2                                                                                                                                                      209\n",
      "keluhan_belanja_online_3                                                                                                                                                      217\n",
      "keluhan_belanja_online_4                                                                                                                                                      238\n",
      "keluhan_belanja_online_5                                                                                                                                                      257\n",
      "keluhan_belanja_online_6                                                                                                                                                      274\n",
      "dtype: int64\n"
     ]
    }
   ],
   "source": [
    "missing_values = df.isnull().sum()\n",
    "\n",
    "# Mengatur opsi pandas untuk menampilkan semua baris\n",
    "pd.set_option('display.max_rows', None)\n",
    "\n",
    "# Menampilkan hasil\n",
    "print(\"Jumlah Missing Value per Kolom:\")\n",
    "print(missing_values)"
   ]
  },
  {
   "cell_type": "markdown",
   "metadata": {},
   "source": [
    "## PREPROCESSING"
   ]
  },
  {
   "cell_type": "code",
   "execution_count": 503,
   "metadata": {},
   "outputs": [
    {
     "name": "stdout",
     "output_type": "stream",
     "text": [
      "Jenis Kelamin object\n",
      "Usia int64\n",
      "Pendidikan Terakhir object\n",
      "Pekerjaan object\n",
      "Penghasilan per Bulan object\n",
      "Domisili object\n",
      "Durasi Penggunaan Internet per Hari (dalam Jam) object\n",
      "Aktivitas Online Meningkat object\n",
      "Aktivitas yang Meningkat dalam 3 Bulan Terakhir object\n"
     ]
    }
   ],
   "source": [
    "# 10 kolom pertama\n",
    "for col in df.columns[0:9]:\n",
    "    print(col, df[col].dtypes)"
   ]
  },
  {
   "cell_type": "code",
   "execution_count": 504,
   "metadata": {},
   "outputs": [
    {
     "data": {
      "text/plain": [
       "Jenis Kelamin                                        0\n",
       "Usia                                                 0\n",
       "Pendidikan Terakhir                                  0\n",
       "Pekerjaan                                            0\n",
       "Penghasilan per Bulan                                0\n",
       "Domisili                                             0\n",
       "Durasi Penggunaan Internet per Hari (dalam Jam)     76\n",
       "Aktivitas Online Meningkat                           0\n",
       "Aktivitas yang Meningkat dalam 3 Bulan Terakhir    118\n",
       "dtype: int64"
      ]
     },
     "execution_count": 504,
     "metadata": {},
     "output_type": "execute_result"
    }
   ],
   "source": [
    "# Jumlah NaN di 10 kolom pertama\n",
    "missing_values[0:9]"
   ]
  },
  {
   "cell_type": "code",
   "execution_count": 505,
   "metadata": {},
   "outputs": [
    {
     "data": {
      "text/plain": [
       "Jenis Kelamin\n",
       "Pria      145\n",
       "Wanita    143\n",
       "Name: count, dtype: int64"
      ]
     },
     "execution_count": 505,
     "metadata": {},
     "output_type": "execute_result"
    }
   ],
   "source": [
    "df[\"Jenis Kelamin\"].value_counts()"
   ]
  },
  {
   "cell_type": "code",
   "execution_count": 506,
   "metadata": {},
   "outputs": [
    {
     "data": {
      "text/plain": [
       "Usia\n",
       "19      65\n",
       "20      33\n",
       "18      19\n",
       "21      11\n",
       "54      10\n",
       "22       9\n",
       "53       6\n",
       "43       6\n",
       "44       6\n",
       "50       6\n",
       "52       6\n",
       "46       6\n",
       "29       5\n",
       "33       5\n",
       "47       5\n",
       "34       5\n",
       "23       5\n",
       "45       5\n",
       "40       5\n",
       "26       5\n",
       "42       4\n",
       "24       4\n",
       "48       4\n",
       "32       4\n",
       "28       4\n",
       "16       3\n",
       "17       3\n",
       "37       3\n",
       "31       3\n",
       "57       3\n",
       "30       3\n",
       "25       3\n",
       "38       3\n",
       "41       3\n",
       "39       2\n",
       "55       2\n",
       "49       2\n",
       "36       2\n",
       "51       2\n",
       "35       1\n",
       "13       1\n",
       "60       1\n",
       "27       1\n",
       "2003     1\n",
       "64       1\n",
       "63       1\n",
       "61       1\n",
       "Name: count, dtype: int64"
      ]
     },
     "execution_count": 506,
     "metadata": {},
     "output_type": "execute_result"
    }
   ],
   "source": [
    "df[\"Usia\"].value_counts()"
   ]
  },
  {
   "cell_type": "code",
   "execution_count": 507,
   "metadata": {},
   "outputs": [],
   "source": [
    "# ubah tahun lahir yang dimasukkan ke dalam usia (usia > 1923)\n",
    "df[\"Usia\"] = np.where(df[\"Usia\"] > 1923, 2023 - df[\"Usia\"], df[\"Usia\"])"
   ]
  },
  {
   "cell_type": "code",
   "execution_count": 508,
   "metadata": {},
   "outputs": [
    {
     "data": {
      "text/plain": [
       "Pendidikan Terakhir\n",
       "SMA               132\n",
       "S1                106\n",
       "S2                 24\n",
       "D3                 12\n",
       "SMP                 4\n",
       "D4                  4\n",
       "S3                  1\n",
       "Dokter/profesi      1\n",
       "Akademi             1\n",
       "SMK                 1\n",
       "SD                  1\n",
       "Profesi             1\n",
       "Name: count, dtype: int64"
      ]
     },
     "execution_count": 508,
     "metadata": {},
     "output_type": "execute_result"
    }
   ],
   "source": [
    "df[\"Pendidikan Terakhir\"].value_counts()"
   ]
  },
  {
   "cell_type": "code",
   "execution_count": 509,
   "metadata": {},
   "outputs": [],
   "source": [
    "#Pendidikan yang bersifat profesi bisa disatukan menjadi S1\n",
    "df[\"Pendidikan Terakhir\"].replace(\"Profesi\", \"S1\", inplace=True)\n",
    "df[\"Pendidikan Terakhir\"].replace(\"Dokter/profesi\", \"S1\", inplace=True)"
   ]
  },
  {
   "cell_type": "code",
   "execution_count": 510,
   "metadata": {},
   "outputs": [
    {
     "data": {
      "text/plain": [
       "Pendidikan Terakhir\n",
       "SMA        132\n",
       "S1         108\n",
       "S2          24\n",
       "D3          12\n",
       "SMP          4\n",
       "D4           4\n",
       "S3           1\n",
       "Akademi      1\n",
       "SMK          1\n",
       "SD           1\n",
       "Name: count, dtype: int64"
      ]
     },
     "execution_count": 510,
     "metadata": {},
     "output_type": "execute_result"
    }
   ],
   "source": [
    "df[\"Pendidikan Terakhir\"].value_counts()"
   ]
  },
  {
   "cell_type": "code",
   "execution_count": 511,
   "metadata": {},
   "outputs": [
    {
     "data": {
      "text/plain": [
       "Pekerjaan\n",
       "Pelajar / Mahasiswa                             142\n",
       "Karyawan Swasta                                  78\n",
       "Ibu Rumah Tangga                                 19\n",
       "Profesional ( Dokter, Dosen, Pengacara, dll)     13\n",
       "Pegawai Negeri                                   11\n",
       "Pengusaha                                        10\n",
       "BUMN                                              2\n",
       "Tentor                                            1\n",
       "Fresh graduate                                    1\n",
       "Guru Honorer                                      1\n",
       "BUMD                                              1\n",
       "Pegawai BUMD                                      1\n",
       "Peg BUMN                                          1\n",
       "Karyawan BUMD                                     1\n",
       "Wiraswasta                                        1\n",
       "Karyawan BUMN                                     1\n",
       "Pensiun                                           1\n",
       "Gap year                                          1\n",
       "Wiraswasta                                        1\n",
       "pegawai                                           1\n",
       "Name: count, dtype: int64"
      ]
     },
     "execution_count": 511,
     "metadata": {},
     "output_type": "execute_result"
    }
   ],
   "source": [
    "df[\"Pekerjaan\"].value_counts()"
   ]
  },
  {
   "cell_type": "code",
   "execution_count": 512,
   "metadata": {},
   "outputs": [],
   "source": [
    "#Menyederhanakan pekerjaan\n",
    "replacement_dict = {\"Guru\":\"Profesional\",\n",
    "                    \"Profesi\":\"Profesional\",\n",
    "                    \"BUM\":\"Pegawai Negeri\",\n",
    "                    \"Pegawai\":\"Pegawai Negeri\",\n",
    "                    \"Guru\":\"Profesional\",\n",
    "                    \"Wira\": \"Pengusaha\",\n",
    "                    \"Fresh\": \"Tidak Bekerja\",\n",
    "                    \"Gap\": \"Tidak Bekerja\",\n",
    "                    \"Pensiun\": \"Tidak Bekerja\"}\n",
    "for key in replacement_dict:\n",
    "    df.loc[df[\"Pekerjaan\"].str.contains(key, case=False), \"Pekerjaan\"] = replacement_dict[key]"
   ]
  },
  {
   "cell_type": "code",
   "execution_count": 513,
   "metadata": {},
   "outputs": [
    {
     "data": {
      "text/plain": [
       "Pekerjaan\n",
       "Pelajar / Mahasiswa    142\n",
       "Karyawan Swasta         78\n",
       "Pegawai Negeri          19\n",
       "Ibu Rumah Tangga        19\n",
       "Profesional             14\n",
       "Pengusaha               12\n",
       "Tidak Bekerja            3\n",
       "Tentor                   1\n",
       "Name: count, dtype: int64"
      ]
     },
     "execution_count": 513,
     "metadata": {},
     "output_type": "execute_result"
    }
   ],
   "source": [
    "df[\"Pekerjaan\"].value_counts()"
   ]
  },
  {
   "cell_type": "code",
   "execution_count": 514,
   "metadata": {},
   "outputs": [
    {
     "data": {
      "text/plain": [
       "Kategori Penghasilan\n",
       "Rendah      130\n",
       "Tinggi       85\n",
       "Menengah     73\n",
       "Name: count, dtype: int64"
      ]
     },
     "execution_count": 514,
     "metadata": {},
     "output_type": "execute_result"
    }
   ],
   "source": [
    "# Membuat kolom baru yang merupakan binning dari penghasilan per bulan\n",
    "df[\"Penghasilan per Bulan\"].value_counts()\n",
    "df[\"Kategori Penghasilan\"] = \"Menengah\"\n",
    "df.loc[df[\"Penghasilan per Bulan\"]==\"< Rp 2 juta\", \"Kategori Penghasilan\"] = \"Rendah\"\n",
    "df.loc[df[\"Penghasilan per Bulan\"]==\"> Rp 10 juta\", \"Kategori Penghasilan\"] = \"Tinggi\"\n",
    "df[\"Kategori Penghasilan\"].value_counts()"
   ]
  },
  {
   "cell_type": "code",
   "execution_count": 515,
   "metadata": {},
   "outputs": [
    {
     "data": {
      "text/plain": [
       "Domisili\n",
       "Bandung              83\n",
       "Jakarta              78\n",
       "Tangerang            20\n",
       "Bekasi               14\n",
       "Yogyakarta           14\n",
       "Depok                12\n",
       "Medan                 8\n",
       "Semarang              7\n",
       "Surabaya              7\n",
       "Bogor                 6\n",
       "Surakarta             2\n",
       "Malang                2\n",
       "Pekanbaru             2\n",
       "Samarinda             2\n",
       "Makassar              2\n",
       "Blang pidie           1\n",
       "PKU                   1\n",
       "depok                 1\n",
       "Cilegon               1\n",
       "Sumedang              1\n",
       "Padang                1\n",
       "bekasi                1\n",
       "Perth                 1\n",
       "Jerman                1\n",
       "St Louis, MO          1\n",
       "Sorong                1\n",
       "Jawa barat            1\n",
       "Gresik                1\n",
       "Sumatera barat        1\n",
       "Sidoarjo              1\n",
       "Cimahi                1\n",
       "Kudus                 1\n",
       "Garut                 1\n",
       "Balikpapan            1\n",
       "Kota Malang           1\n",
       "Sukabumi              1\n",
       "Palu                  1\n",
       "Tangerang Selatan     1\n",
       "Aceh                  1\n",
       "Wonosobo              1\n",
       "Magetan               1\n",
       "Palembang             1\n",
       "Sukabumi              1\n",
       "Tasikmalaya           1\n",
       "Name: count, dtype: int64"
      ]
     },
     "execution_count": 515,
     "metadata": {},
     "output_type": "execute_result"
    }
   ],
   "source": [
    "df[\"Domisili\"].value_counts()"
   ]
  },
  {
   "cell_type": "code",
   "execution_count": 516,
   "metadata": {},
   "outputs": [],
   "source": [
    "# hanya disimpan kota-kota pilihan survei dan jabodetabek\n",
    "# sisanya dikategorikan sebagai \"Others\"\n",
    "df.loc[~df[\"Domisili\"].isin([\"Jakarta\", \"Bandung\", \"Yogyakarta\", \"Tangerang\", \"Surabaya\", \"Medan\", \"Bogor\", \"Depok\", \"Bekasi\", \"Semarang\", ]), \"Domisili\"] = \"Others\"\n",
    "\n",
    "#Menyatukan domisili yang sama\n",
    "replacement_dict = {\"ekasi\":\"Bekasi\",\n",
    "                    \"Tanggerang\":\"Tanggerang\",\n",
    "                    \"epok\": \"Depok\"}\n",
    "for key in replacement_dict:\n",
    "    df.loc[df[\"Pekerjaan\"].str.contains(key, case=False), \"Pekerjaan\"] = replacement_dict[key]"
   ]
  },
  {
   "cell_type": "code",
   "execution_count": 517,
   "metadata": {},
   "outputs": [
    {
     "data": {
      "text/plain": [
       "Domisili\n",
       "Bandung       83\n",
       "Jakarta       78\n",
       "Others        39\n",
       "Tangerang     20\n",
       "Bekasi        14\n",
       "Yogyakarta    14\n",
       "Depok         12\n",
       "Medan          8\n",
       "Semarang       7\n",
       "Surabaya       7\n",
       "Bogor          6\n",
       "Name: count, dtype: int64"
      ]
     },
     "execution_count": 517,
     "metadata": {},
     "output_type": "execute_result"
    }
   ],
   "source": [
    "df[\"Domisili\"].value_counts()"
   ]
  },
  {
   "cell_type": "code",
   "execution_count": 518,
   "metadata": {},
   "outputs": [
    {
     "data": {
      "text/plain": [
       "['1000%',\n",
       " '1100%',\n",
       " '1200%',\n",
       " '1300%',\n",
       " '1400%',\n",
       " '1500%',\n",
       " '1600%',\n",
       " '1700%',\n",
       " '1800%',\n",
       " '200%',\n",
       " '2400%',\n",
       " '300%',\n",
       " '400%',\n",
       " '500%',\n",
       " '600%',\n",
       " '700%',\n",
       " '800%',\n",
       " '900%']"
      ]
     },
     "execution_count": 518,
     "metadata": {},
     "output_type": "execute_result"
    }
   ],
   "source": [
    "sorted(df[\"Durasi Penggunaan Internet per Hari (dalam Jam)\"].value_counts().index)"
   ]
  },
  {
   "cell_type": "code",
   "execution_count": 519,
   "metadata": {},
   "outputs": [],
   "source": [
    "# Durasi penggunaan dikonversikan menjadi numerik\n",
    "df[\"Durasi Penggunaan Internet per Hari (dalam Jam)\"] = pd.to_numeric(df[\"Durasi Penggunaan Internet per Hari (dalam Jam)\"].str.rstrip(\"%\"), downcast=\"integer\")\n",
    "df[\"Durasi Penggunaan Internet per Hari (dalam Jam)\"] = df[\"Durasi Penggunaan Internet per Hari (dalam Jam)\"] // 100"
   ]
  },
  {
   "cell_type": "code",
   "execution_count": 520,
   "metadata": {},
   "outputs": [
    {
     "data": {
      "text/plain": [
       "Durasi Penggunaan Internet per Hari (dalam Jam)\n",
       "8.0     34\n",
       "12.0    33\n",
       "10.0    27\n",
       "6.0     18\n",
       "5.0     17\n",
       "3.0     12\n",
       "4.0     12\n",
       "7.0     10\n",
       "15.0     9\n",
       "18.0     8\n",
       "16.0     7\n",
       "2.0      7\n",
       "9.0      5\n",
       "14.0     5\n",
       "11.0     3\n",
       "24.0     2\n",
       "17.0     2\n",
       "13.0     1\n",
       "Name: count, dtype: int64"
      ]
     },
     "execution_count": 520,
     "metadata": {},
     "output_type": "execute_result"
    }
   ],
   "source": [
    "df[\"Durasi Penggunaan Internet per Hari (dalam Jam)\"].value_counts()"
   ]
  },
  {
   "cell_type": "code",
   "execution_count": 521,
   "metadata": {},
   "outputs": [
    {
     "data": {
      "text/plain": [
       "Aktivitas Online Meningkat\n",
       "Tidak    153\n",
       "Ya       135\n",
       "Name: count, dtype: int64"
      ]
     },
     "execution_count": 521,
     "metadata": {},
     "output_type": "execute_result"
    }
   ],
   "source": [
    "# Sama saja dan Tidak Meningkat sebenarnya sama saja\n",
    "df[\"Aktivitas Online Meningkat\"].replace(\"Sama saja\", \"Tidak\", inplace=True)\n",
    "df[\"Aktivitas Online Meningkat\"].value_counts()"
   ]
  },
  {
   "cell_type": "code",
   "execution_count": 522,
   "metadata": {},
   "outputs": [
    {
     "data": {
      "text/plain": [
       "Aktivitas yang Meningkat dalam 3 Bulan Terakhir\n",
       "Akses media sosial                                              42\n",
       "Streaming video/ film                                           29\n",
       "Melakukan video conference                                      29\n",
       "Berbelanja online                                               25\n",
       "Mengikuti kelas online                                          22\n",
       "Game online                                                      4\n",
       "Delivery Makanan                                                 4\n",
       "Menonton e-sport                                                 3\n",
       "Upload Video YouTube                                             1\n",
       "Mencari referensi dalam mengerjakan tubes                        1\n",
       "Browsing untuk keperluan tugas                                   1\n",
       "pekerjaan                                                        1\n",
       "Media sosial, meeting online, kelas online, belanja online.      1\n",
       "Akademik ( Asisten, akses materi, dll)                           1\n",
       "Bekerja                                                          1\n",
       "kerja di rumah WFH                                               1\n",
       "Bisnis online                                                    1\n",
       "Belajar 3d design                                                1\n",
       "Zoom                                                             1\n",
       "Akses web berita                                                 1\n",
       "Name: count, dtype: int64"
      ]
     },
     "execution_count": 522,
     "metadata": {},
     "output_type": "execute_result"
    }
   ],
   "source": [
    "df[\"Aktivitas yang Meningkat dalam 3 Bulan Terakhir\"].value_counts()"
   ]
  },
  {
   "cell_type": "code",
   "execution_count": 523,
   "metadata": {},
   "outputs": [
    {
     "data": {
      "text/plain": [
       "Aktivitas yang Meningkat dalam 3 Bulan Terakhir\n",
       "Akses media sosial            42\n",
       "Streaming video/ film         32\n",
       "Melakukan video conference    30\n",
       "Berbelanja online             25\n",
       "Mengikuti kelas online        22\n",
       "Others                        11\n",
       "Game online                    4\n",
       "Delivery Makanan               4\n",
       "Name: count, dtype: int64"
      ]
     },
     "execution_count": 523,
     "metadata": {},
     "output_type": "execute_result"
    }
   ],
   "source": [
    "# Menyatukan beberapa aktivitas ke dalam kategori yang utama\n",
    "replacement_dict = {\"makan\":\"Delivery Makanan\",\n",
    "                    \"kerja\":\"Bekerja\",\n",
    "                    \"ugas\":\"Bekerja\",\n",
    "                    \"zoom\":\"Melakukan video conference\",\n",
    "                    \"nonton\": \"Streaming video/ film\"}\n",
    "df[\"Aktivitas yang Meningkat dalam 3 Bulan Terakhir\"].fillna(\"\", inplace=True)\n",
    "for key in replacement_dict:\n",
    "    df.loc[df[\"Aktivitas yang Meningkat dalam 3 Bulan Terakhir\"].str.contains(key, case=False), \"Aktivitas yang Meningkat dalam 3 Bulan Terakhir\"] = replacement_dict[key]\n",
    "df[\"Aktivitas yang Meningkat dalam 3 Bulan Terakhir\"].replace(\"\", np.nan, inplace=True)\n",
    "df.loc[~df[\"Aktivitas yang Meningkat dalam 3 Bulan Terakhir\"].isin([\"Akses media sosial\", \"Streaming video/ film\", \"Melakukan video conference\", \"Berbelanja online\", \"Mengikuti kelas online\", \"Game online\", \"Delivery Makanan\", np.nan]), \"Aktivitas yang Meningkat dalam 3 Bulan Terakhir\"] = \"Others\"\n",
    "df[\"Aktivitas yang Meningkat dalam 3 Bulan Terakhir\"].value_counts()"
   ]
  },
  {
   "cell_type": "code",
   "execution_count": 524,
   "metadata": {},
   "outputs": [
    {
     "data": {
      "text/html": [
       "<div>\n",
       "<style scoped>\n",
       "    .dataframe tbody tr th:only-of-type {\n",
       "        vertical-align: middle;\n",
       "    }\n",
       "\n",
       "    .dataframe tbody tr th {\n",
       "        vertical-align: top;\n",
       "    }\n",
       "\n",
       "    .dataframe thead th {\n",
       "        text-align: right;\n",
       "    }\n",
       "</style>\n",
       "<table border=\"1\" class=\"dataframe\">\n",
       "  <thead>\n",
       "    <tr style=\"text-align: right;\">\n",
       "      <th></th>\n",
       "      <th>Jenis Kelamin</th>\n",
       "      <th>Usia</th>\n",
       "      <th>Pendidikan Terakhir</th>\n",
       "      <th>Pekerjaan</th>\n",
       "      <th>Penghasilan per Bulan</th>\n",
       "      <th>Domisili</th>\n",
       "      <th>Durasi Penggunaan Internet per Hari (dalam Jam)</th>\n",
       "      <th>Aktivitas Online Meningkat</th>\n",
       "      <th>Aktivitas yang Meningkat dalam 3 Bulan Terakhir</th>\n",
       "      <th>layanan_aktif_1</th>\n",
       "      <th>...</th>\n",
       "      <th>cara_pembayaran_belanja_online_6</th>\n",
       "      <th>cara_pembayaran_belanja_online_7</th>\n",
       "      <th>cara_pembayaran_belanja_online_8</th>\n",
       "      <th>keluhan_belanja_online_1</th>\n",
       "      <th>keluhan_belanja_online_2</th>\n",
       "      <th>keluhan_belanja_online_3</th>\n",
       "      <th>keluhan_belanja_online_4</th>\n",
       "      <th>keluhan_belanja_online_5</th>\n",
       "      <th>keluhan_belanja_online_6</th>\n",
       "      <th>Kategori Penghasilan</th>\n",
       "    </tr>\n",
       "  </thead>\n",
       "  <tbody>\n",
       "    <tr>\n",
       "      <th>0</th>\n",
       "      <td>Pria</td>\n",
       "      <td>21</td>\n",
       "      <td>S1</td>\n",
       "      <td>Pelajar / Mahasiswa</td>\n",
       "      <td>Rp 5 juta – Rp 10 juta</td>\n",
       "      <td>Tangerang</td>\n",
       "      <td>NaN</td>\n",
       "      <td>Ya</td>\n",
       "      <td>Streaming video/ film</td>\n",
       "      <td>Mobile Banking</td>\n",
       "      <td>...</td>\n",
       "      <td>NaN</td>\n",
       "      <td>NaN</td>\n",
       "      <td>NaN</td>\n",
       "      <td>Barang yang diperoleh tidak sesuai dengan spes...</td>\n",
       "      <td>Barang rusak/ salah tetapi tidak dapat dikemba...</td>\n",
       "      <td>Pembayaran sudah dilakukan; barang tidak tersedia</td>\n",
       "      <td>Jumlah barang yang diterima kurang</td>\n",
       "      <td>NaN</td>\n",
       "      <td>NaN</td>\n",
       "      <td>Menengah</td>\n",
       "    </tr>\n",
       "    <tr>\n",
       "      <th>1</th>\n",
       "      <td>Pria</td>\n",
       "      <td>46</td>\n",
       "      <td>D3</td>\n",
       "      <td>Karyawan Swasta</td>\n",
       "      <td>&gt; Rp 10 juta</td>\n",
       "      <td>Semarang</td>\n",
       "      <td>3.0</td>\n",
       "      <td>Ya</td>\n",
       "      <td>Melakukan video conference</td>\n",
       "      <td>Mobile Banking</td>\n",
       "      <td>...</td>\n",
       "      <td>Kartu Kredit / Debit Online</td>\n",
       "      <td>NaN</td>\n",
       "      <td>NaN</td>\n",
       "      <td>Barang yang diperoleh tidak sesuai dengan spes...</td>\n",
       "      <td>NaN</td>\n",
       "      <td>NaN</td>\n",
       "      <td>Jumlah barang yang diterima kurang</td>\n",
       "      <td>NaN</td>\n",
       "      <td>NaN</td>\n",
       "      <td>Tinggi</td>\n",
       "    </tr>\n",
       "    <tr>\n",
       "      <th>2</th>\n",
       "      <td>Pria</td>\n",
       "      <td>19</td>\n",
       "      <td>SMA</td>\n",
       "      <td>Pelajar / Mahasiswa</td>\n",
       "      <td>&lt; Rp 2 juta</td>\n",
       "      <td>Tangerang</td>\n",
       "      <td>12.0</td>\n",
       "      <td>Tidak</td>\n",
       "      <td>Game online</td>\n",
       "      <td>Mobile Banking</td>\n",
       "      <td>...</td>\n",
       "      <td>NaN</td>\n",
       "      <td>NaN</td>\n",
       "      <td>NaN</td>\n",
       "      <td>Barang yang diperoleh tidak sesuai dengan spes...</td>\n",
       "      <td>NaN</td>\n",
       "      <td>NaN</td>\n",
       "      <td>NaN</td>\n",
       "      <td>NaN</td>\n",
       "      <td>NaN</td>\n",
       "      <td>Rendah</td>\n",
       "    </tr>\n",
       "    <tr>\n",
       "      <th>3</th>\n",
       "      <td>Wanita</td>\n",
       "      <td>19</td>\n",
       "      <td>SMA</td>\n",
       "      <td>Pelajar / Mahasiswa</td>\n",
       "      <td>&lt; Rp 2 juta</td>\n",
       "      <td>Bandung</td>\n",
       "      <td>10.0</td>\n",
       "      <td>Ya</td>\n",
       "      <td>Berbelanja online</td>\n",
       "      <td>Mobile Banking</td>\n",
       "      <td>...</td>\n",
       "      <td>NaN</td>\n",
       "      <td>NaN</td>\n",
       "      <td>NaN</td>\n",
       "      <td>Barang yang diperoleh tidak sesuai dengan spes...</td>\n",
       "      <td>NaN</td>\n",
       "      <td>NaN</td>\n",
       "      <td>Jumlah barang yang diterima kurang</td>\n",
       "      <td>NaN</td>\n",
       "      <td>NaN</td>\n",
       "      <td>Rendah</td>\n",
       "    </tr>\n",
       "    <tr>\n",
       "      <th>4</th>\n",
       "      <td>Pria</td>\n",
       "      <td>43</td>\n",
       "      <td>S1</td>\n",
       "      <td>Pegawai Negeri</td>\n",
       "      <td>&gt; Rp 10 juta</td>\n",
       "      <td>Tangerang</td>\n",
       "      <td>8.0</td>\n",
       "      <td>Ya</td>\n",
       "      <td>Mengikuti kelas online</td>\n",
       "      <td>NaN</td>\n",
       "      <td>...</td>\n",
       "      <td>Kartu Kredit / Debit Online</td>\n",
       "      <td>NaN</td>\n",
       "      <td>NaN</td>\n",
       "      <td>Barang yang diperoleh tidak sesuai dengan spes...</td>\n",
       "      <td>NaN</td>\n",
       "      <td>NaN</td>\n",
       "      <td>NaN</td>\n",
       "      <td>NaN</td>\n",
       "      <td>NaN</td>\n",
       "      <td>Tinggi</td>\n",
       "    </tr>\n",
       "  </tbody>\n",
       "</table>\n",
       "<p>5 rows × 151 columns</p>\n",
       "</div>"
      ],
      "text/plain": [
       "  Jenis Kelamin  Usia Pendidikan Terakhir            Pekerjaan  \\\n",
       "0          Pria    21                  S1  Pelajar / Mahasiswa   \n",
       "1          Pria    46                  D3      Karyawan Swasta   \n",
       "2          Pria    19                 SMA  Pelajar / Mahasiswa   \n",
       "3        Wanita    19                 SMA  Pelajar / Mahasiswa   \n",
       "4          Pria    43                  S1       Pegawai Negeri   \n",
       "\n",
       "    Penghasilan per Bulan   Domisili  \\\n",
       "0  Rp 5 juta – Rp 10 juta  Tangerang   \n",
       "1            > Rp 10 juta   Semarang   \n",
       "2             < Rp 2 juta  Tangerang   \n",
       "3             < Rp 2 juta    Bandung   \n",
       "4            > Rp 10 juta  Tangerang   \n",
       "\n",
       "   Durasi Penggunaan Internet per Hari (dalam Jam) Aktivitas Online Meningkat  \\\n",
       "0                                              NaN                         Ya   \n",
       "1                                              3.0                         Ya   \n",
       "2                                             12.0                      Tidak   \n",
       "3                                             10.0                         Ya   \n",
       "4                                              8.0                         Ya   \n",
       "\n",
       "  Aktivitas yang Meningkat dalam 3 Bulan Terakhir layanan_aktif_1  ...  \\\n",
       "0                           Streaming video/ film  Mobile Banking  ...   \n",
       "1                      Melakukan video conference  Mobile Banking  ...   \n",
       "2                                     Game online  Mobile Banking  ...   \n",
       "3                               Berbelanja online  Mobile Banking  ...   \n",
       "4                          Mengikuti kelas online             NaN  ...   \n",
       "\n",
       "  cara_pembayaran_belanja_online_6 cara_pembayaran_belanja_online_7  \\\n",
       "0                              NaN                              NaN   \n",
       "1      Kartu Kredit / Debit Online                              NaN   \n",
       "2                              NaN                              NaN   \n",
       "3                              NaN                              NaN   \n",
       "4      Kartu Kredit / Debit Online                              NaN   \n",
       "\n",
       "  cara_pembayaran_belanja_online_8  \\\n",
       "0                              NaN   \n",
       "1                              NaN   \n",
       "2                              NaN   \n",
       "3                              NaN   \n",
       "4                              NaN   \n",
       "\n",
       "                            keluhan_belanja_online_1  \\\n",
       "0  Barang yang diperoleh tidak sesuai dengan spes...   \n",
       "1  Barang yang diperoleh tidak sesuai dengan spes...   \n",
       "2  Barang yang diperoleh tidak sesuai dengan spes...   \n",
       "3  Barang yang diperoleh tidak sesuai dengan spes...   \n",
       "4  Barang yang diperoleh tidak sesuai dengan spes...   \n",
       "\n",
       "                            keluhan_belanja_online_2  \\\n",
       "0  Barang rusak/ salah tetapi tidak dapat dikemba...   \n",
       "1                                                NaN   \n",
       "2                                                NaN   \n",
       "3                                                NaN   \n",
       "4                                                NaN   \n",
       "\n",
       "                            keluhan_belanja_online_3  \\\n",
       "0  Pembayaran sudah dilakukan; barang tidak tersedia   \n",
       "1                                                NaN   \n",
       "2                                                NaN   \n",
       "3                                                NaN   \n",
       "4                                                NaN   \n",
       "\n",
       "             keluhan_belanja_online_4 keluhan_belanja_online_5  \\\n",
       "0  Jumlah barang yang diterima kurang                      NaN   \n",
       "1  Jumlah barang yang diterima kurang                      NaN   \n",
       "2                                 NaN                      NaN   \n",
       "3  Jumlah barang yang diterima kurang                      NaN   \n",
       "4                                 NaN                      NaN   \n",
       "\n",
       "  keluhan_belanja_online_6 Kategori Penghasilan  \n",
       "0                      NaN             Menengah  \n",
       "1                      NaN               Tinggi  \n",
       "2                      NaN               Rendah  \n",
       "3                      NaN               Rendah  \n",
       "4                      NaN               Tinggi  \n",
       "\n",
       "[5 rows x 151 columns]"
      ]
     },
     "execution_count": 524,
     "metadata": {},
     "output_type": "execute_result"
    }
   ],
   "source": [
    "# Menampilkan 5 data teratas setelah preprocessing\n",
    "df.head()"
   ]
  },
  {
   "cell_type": "markdown",
   "metadata": {},
   "source": [
    "## 2. Buat 6 visualisasi (dengan tipe chart berbeda) dari dataset yang didapatkan. Boleh menggunakan kolom manapun. Di bawah visualisasi berikan minimal 1 insight yang didapatkan dari visualisasi."
   ]
  },
  {
   "cell_type": "markdown",
   "metadata": {},
   "source": [
    "# a. Visualisasi hubungan Pendidikan terakhir dengan Frekuensi Penggunaan ATM"
   ]
  },
  {
   "cell_type": "code",
   "execution_count": 525,
   "metadata": {},
   "outputs": [
    {
     "data": {
      "image/png": "[encoded data removed]",
      "text/plain": [
       "<Figure size 640x480 with 1 Axes>"
      ]
     },
     "metadata": {},
     "output_type": "display_data"
    }
   ],
   "source": [
    "visdf_1 = df.copy()\n",
    "visdf_1[\"18. Bagaimana frekuensi penggunaan Channel Bank berikut? [ATM]\"] = pd.Categorical(visdf_1[\"18. Bagaimana frekuensi penggunaan Channel Bank berikut? [ATM]\"], categories=[\"> 10 kali per bulan\", \"6-9 kali per bulan\", \"2-5 kali per bulan\", \"Kurang dari/ setidaknya 1 kali per bulan\", \"Tidak Pernah\"], ordered= True)\n",
    "visdf_1[\"Pendidikan Terakhir\"] = pd.Categorical(visdf_1[\"Pendidikan Terakhir\"], categories=[\"SD\",\"SMP\", \"SMA\", \"SMK\", \"D3\", \"D4\", \"S1\", \"S2\", \"S3\"], ordered= True)\n",
    "sns.lineplot(x=visdf_1[\"Pendidikan Terakhir\"], y=visdf_1[\"18. Bagaimana frekuensi penggunaan Channel Bank berikut? [ATM]\"], color=sns.color_palette(\"viridis\")[2])\n",
    "plt.ylabel(\"Frekuensi Penggunaan ATM\")\n",
    "plt.title(\"Hubungan Pendidikan Terakhir dengan Frekuensi Penggunaan ATM\")\n",
    "plt.show()"
   ]
  },
  {
   "cell_type": "markdown",
   "metadata": {},
   "source": [
    "Insights yang didapat dari line plot di atas adalah frekuensi penggunaan ATM berbanding lurus dengan tingkat pendidikan, dimana frekuensi penggunaan ATM tertinggi berasal dari orang yang\n",
    "pendidikan terakhirnya S2"
   ]
  },
  {
   "cell_type": "markdown",
   "metadata": {},
   "source": [
    "## b. Visualisasi hubungan usia dengan peningkatan akitvitas online aktivitas online"
   ]
  },
  {
   "cell_type": "code",
   "execution_count": 526,
   "metadata": {},
   "outputs": [
    {
     "data": {
      "image/png": "[encoded data removed]",
      "text/plain": [
       "<Figure size 1500x500 with 1 Axes>"
      ]
     },
     "metadata": {},
     "output_type": "display_data"
    }
   ],
   "source": [
    "plt.figure(figsize=(15, 5))\n",
    "sns.regplot(x=df[\"Usia\"], y=df[\"Durasi Penggunaan Internet per Hari (dalam Jam)\"], ci=None, line_kws={'color': 'Black'})\n",
    "plt.title(\"Hubungan Durasi Penggunaan Internet Seiring Bertambahnya Usia\", fontweight=\"bold\")\n",
    "plt.show()"
   ]
  },
  {
   "cell_type": "markdown",
   "metadata": {},
   "source": [
    "Insight yang didapat dari scatter plot di atas adalah penggunaan internet menurun seiring dengan bertambahnya usia"
   ]
  },
  {
   "cell_type": "markdown",
   "metadata": {},
   "source": [
    "## c. Visualisasi perbandingan penghasilan antara domisili Jakarta dengan Bandung"
   ]
  },
  {
   "cell_type": "code",
   "execution_count": 527,
   "metadata": {},
   "outputs": [
    {
     "data": {
      "image/png": "[encoded data removed]",
      "text/plain": [
       "<Figure size 1200x600 with 2 Axes>"
      ]
     },
     "metadata": {},
     "output_type": "display_data"
    }
   ],
   "source": [
    "visdf_3 = df.groupby([\"Domisili\", \"Kategori Penghasilan\"]).size().reset_index(name=\"Jumlah\")\n",
    "\n",
    "# Membuat DataFrame yang di-melt untuk pie chart\n",
    "df_pivot = pd.pivot_table(visdf_3, values='Jumlah', index='Domisili', columns='Kategori Penghasilan', aggfunc='sum').reset_index()\n",
    "\n",
    "# Memisahkan DataFrame menjadi dua DataFrame (Jakarta dan Bandung)\n",
    "df_jakarta = df_pivot[df_pivot['Domisili'] == 'Jakarta']\n",
    "df_bandung = df_pivot[df_pivot['Domisili'] == 'Bandung']\n",
    "\n",
    "# Membuat pie chart untuk Jakarta\n",
    "plt.figure(figsize=(12, 6))\n",
    "plt.subplot(1, 2, 1)\n",
    "plt.pie(df_jakarta.iloc[:, 1:].values.flatten(), labels=df_jakarta.columns[1:], autopct='%1.1f%%', colors=['skyblue', 'orange', 'lightgreen'])\n",
    "plt.title('Jakarta')\n",
    "\n",
    "# Membuat pie chart untuk Bandung\n",
    "plt.subplot(1, 2, 2)\n",
    "plt.pie(df_bandung.iloc[:, 1:].values.flatten(), labels=df_bandung.columns[1:], autopct='%1.1f%%', colors=['skyblue', 'orange', 'lightgreen'])\n",
    "plt.title('Bandung')\n",
    "\n",
    "plt.suptitle('Perbandingan Domisili dengan Penghasilan (Rendah, Menengah, Tinggi) menggunakan Pie Chart')\n",
    "plt.show()"
   ]
  },
  {
   "cell_type": "markdown",
   "metadata": {},
   "source": [
    "Insight yang didapat dari pie chart di atas adalah orang-orang yang berdomisili di Jakarta memiliki penghasilan dengan kategori tinggi lebih banyak dibanding orang-orang yang berdomisili di Bandung"
   ]
  },
  {
   "cell_type": "markdown",
   "metadata": {},
   "source": [
    "# d. Visualisasi persebaran pendidikan responden"
   ]
  },
  {
   "cell_type": "code",
   "execution_count": 528,
   "metadata": {},
   "outputs": [
    {
     "data": {
      "image/png": "[encoded data removed]",
      "text/plain": [
       "<Figure size 640x480 with 1 Axes>"
      ]
     },
     "metadata": {},
     "output_type": "display_data"
    }
   ],
   "source": [
    "sns.histplot(df[\"Pendidikan Terakhir\"], color=sns.color_palette(\"pastel\")[5])\n",
    "plt.title(\"Distribusi Pendidikan Responden\")\n",
    "plt.show()"
   ]
  },
  {
   "cell_type": "markdown",
   "metadata": {},
   "source": [
    "Insight yang didapat dari histogram di atas adalah pendidikan terakhir responden paling banyak pada pendidikan SMA"
   ]
  },
  {
   "cell_type": "markdown",
   "metadata": {},
   "source": [
    "# e. Visualisasi hubungan pendidikan terakhir dengan pekerjaan"
   ]
  },
  {
   "cell_type": "code",
   "execution_count": 529,
   "metadata": {},
   "outputs": [
    {
     "data": {
      "image/png": "[encoded data removed]",
      "text/plain": [
       "<Figure size 2000x600 with 1 Axes>"
      ]
     },
     "metadata": {},
     "output_type": "display_data"
    }
   ],
   "source": [
    "visdf_5 = df.groupby([\"Pendidikan Terakhir\", \"Pekerjaan\"]).size().reset_index(name=\"Jumlah\")\n",
    "\n",
    "# Membuat DataFrame yang di-melt untuk area chart\n",
    "df_melted = pd.pivot_table(visdf_5, values='Jumlah', index='Pekerjaan', columns='Pendidikan Terakhir', aggfunc='sum').reset_index()\n",
    "\n",
    "# Mengatur warna untuk setiap kategori pendidikan\n",
    "colors = {'SD': 'skyblue', 'SMP': 'orange', 'SMA': 'lightgreen', 'SMK': 'salmon','Akademi':'lightgray', 'D1': 'purple', 'D2': 'brown', 'D3': 'pink', 'D4': 'gray', 'S1': 'cyan', 'S2': 'magenta', 'S3': 'yellow'}\n",
    "\n",
    "# Membuat area chart\n",
    "plt.figure(figsize=(20, 6))\n",
    "\n",
    "for col in df_melted.columns[1:]:\n",
    "    plt.fill_between(df_melted['Pekerjaan'], df_melted[col], label=col, color=colors[col])\n",
    "\n",
    "plt.xlabel('Pekerjaan')\n",
    "plt.ylabel('Jumlah')\n",
    "plt.title('Hubungan Pekerjaan dengan Pendidikan Terakhir menggunakan Area Chart')\n",
    "plt.legend(title='Pendidikan')\n",
    "\n",
    "plt.show()"
   ]
  },
  {
   "cell_type": "markdown",
   "metadata": {},
   "source": [
    "Insight yang didapat dari area chart di atas adalah lulusan pendidikan S1 memiliki pekerjaan selain pelajar/mahasiswa dan paling banyak bekerja sebagai karyawan swasta"
   ]
  },
  {
   "cell_type": "markdown",
   "metadata": {},
   "source": [
    "# f. Visualisasi hubungan Jenis kelamin dengan penghasilan"
   ]
  },
  {
   "cell_type": "code",
   "execution_count": 530,
   "metadata": {},
   "outputs": [
    {
     "data": {
      "image/png": "[encoded data removed]",
      "text/plain": [
       "<Figure size 1000x600 with 1 Axes>"
      ]
     },
     "metadata": {},
     "output_type": "display_data"
    }
   ],
   "source": [
    "visdf_6 = df.groupby([\"Jenis Kelamin\", \"Kategori Penghasilan\"]).size().reset_index(name=\"Jumlah\")\n",
    "\n",
    "# Membuat DataFrame yang di-melt untuk stacked bar chart\n",
    "df_melted = pd.pivot_table(visdf_6, values='Jumlah', index='Jenis Kelamin', columns='Kategori Penghasilan', aggfunc='sum').reset_index()\n",
    "\n",
    "# Mengatur warna untuk setiap kategori penghasilan\n",
    "colors = {'Rendah': 'skyblue', 'Menengah': 'orange', 'Tinggi': 'lightgreen'}\n",
    "\n",
    "# Membuat stacked bar chart\n",
    "plt.figure(figsize=(10, 6))\n",
    "bottom = None\n",
    "\n",
    "for col in df_melted.columns[1:]:\n",
    "    plt.bar(df_melted['Jenis Kelamin'], df_melted[col], label=col, color=colors[col], bottom=bottom)\n",
    "    if bottom is None:\n",
    "        bottom = df_melted[col]\n",
    "    else:\n",
    "        bottom += df_melted[col]\n",
    "\n",
    "plt.xlabel('Jenis Kelamin')\n",
    "plt.ylabel('Jumlah')\n",
    "plt.title('Hubungan Penghasilan dengan Jenis Kelamin')\n",
    "plt.legend(title='Penghasilan')\n",
    "\n",
    "plt.show()"
   ]
  },
  {
   "cell_type": "markdown",
   "metadata": {},
   "source": [
    "Insight yang didapat dari stacked bar chart di atas adalah pria memiliki penghasilan berkategori tinggi lebih banyak dari wanita"
   ]
  },
  {
   "cell_type": "markdown",
   "metadata": {},
   "source": [
    "# 3. Lakukan univariate analysis berikut:"
   ]
  },
  {
   "cell_type": "code",
   "execution_count": 531,
   "metadata": {},
   "outputs": [],
   "source": [
    "# alpha ini berlaku untuk semua analysis (univariate dan bivariate)\n",
    "alpha = 0.05"
   ]
  },
  {
   "cell_type": "code",
   "execution_count": 532,
   "metadata": {},
   "outputs": [],
   "source": [
    "from scipy.stats import norm, chisquare, chi2\n",
    "\n",
    "def ci_proportion(p_hat, n, alpha):\n",
    "# fungsi mengembalikan sepasang nilai (lb, ub)\n",
    "    z_alphaper2 = norm.ppf(1-(alpha/2))\n",
    "    moe = z_alphaper2 * np.sqrt((p_hat * (1-p_hat))/n)\n",
    "    return (p_hat-moe, p_hat+moe)\n",
    "\n",
    "def onesample_proportion_test(p_zero, p_hat, n, alpha, type):\n",
    "# fungsi mengembalikan kesimpulan dan p_value\n",
    "    z_alpha = norm.ppf(1-alpha)\n",
    "    z_alphaper2 = norm.ppf(1-alpha/2)\n",
    "    \n",
    "    z_val = (n*p_hat - n*p_zero)/(np.sqrt(n*p_zero*(1-p_zero)))\n",
    "    kesimpulan = \"Di luar critical region, fail to reject H0\" #default\n",
    "    reject_H0 = \"Di dalam critical region, reject H0\"\n",
    "    \n",
    "    if (type == \"!=\"):\n",
    "        p_val = 2 * (1 - norm.cdf(np.abs(z_val)))\n",
    "        if (z_val < (-1*z_alphaper2) or z_val > z_alphaper2):\n",
    "            kesimpulan = reject_H0\n",
    "    elif (type == \"<\"):\n",
    "        p_val = norm.cdf(z_val)\n",
    "        if (z_val < z_alpha):\n",
    "            kesimpulan = reject_H0\n",
    "    elif (type == \">\"):\n",
    "        p_val = (1 - norm.cdf(z_val))\n",
    "        if (z_val > z_alpha):\n",
    "            kesimpulan = reject_H0\n",
    "    \n",
    "    print(f\"z: {z_val}\\nz_alpha: {z_alpha}\\nz_alpha/2: {z_alphaper2}\\n\")\n",
    "    return (kesimpulan, np.round(p_val, 10))\n",
    "\n",
    "def chi2_gof(dataframe, colname, alpha):\n",
    "    data = dataframe[colname]\n",
    "    data = data.dropna()\n",
    "    \n",
    "    mean = data.mean()\n",
    "    std = data.std()\n",
    "    \n",
    "    bins = 4\n",
    "    observed, bin_edges = np.histogram(data, bins=bins)\n",
    "    expected = []\n",
    "    for i in range(bins):\n",
    "        expected.append((norm.cdf(bin_edges[i+1], mean, std) - norm.cdf(bin_edges[i], mean, std)) * data.size)\n",
    "    \n",
    "    sum_ex = sum(expected)\n",
    "    len_data = data.size\n",
    "    ex_scaled = []\n",
    "    \n",
    "    for i in range(len(expected)):\n",
    "        ex_scaled.append(expected[i]*len_data/sum_ex)\n",
    "    \n",
    "    chi2_val = 0\n",
    "    for i in range(len(expected)):\n",
    "        chi2_val += ((observed[i] - ex_scaled[i]) ** 2) / ex_scaled[i]\n",
    "    \n",
    "    dof = bins - 1\n",
    "    chi2_alpha = chi2.ppf(1-alpha, df=dof)\n",
    "    \n",
    "    print(f\"Frekuensi ril: {observed}\\n\")\n",
    "    print(f\"Frekuensi ekspektasi: {ex_scaled}\\n\")\n",
    "    print(f\"Nilai chi2: {chi2_val}\\n\")\n",
    "    print(f\"Nilai chi2alpha: {chi2_alpha}\\n\")\n",
    "    \n",
    "    pval = 1-chi2.cdf(chi2_val, dof)\n",
    "    if chi2_val > chi2_alpha:\n",
    "        return (\"Reject H0\", np.round(pval, 10))\n",
    "    else:\n",
    "        return (\"Fail to Reject H0\", np.round(pval, 10))"
   ]
  },
  {
   "cell_type": "markdown",
   "metadata": {},
   "source": [
    "# a. Confidence interval 95% for one-sample proportion (hitung confidence interval untuk 3 variabel yang berbeda, variabel bebas)"
   ]
  },
  {
   "cell_type": "code",
   "execution_count": 533,
   "metadata": {},
   "outputs": [
    {
     "name": "stdout",
     "output_type": "stream",
     "text": [
      "1.25279% < p_hat < 3.60305%\n"
     ]
    }
   ],
   "source": [
    "# Menghitung CI 95% untuk proporsi responden yang menggunakan metode pembayaran Paylater\n",
    "ni1 = df[\"cara_pembayaran_belanja_online_8\"].count()\n",
    "n1 = 0\n",
    "for col in df.columns:\n",
    "    if \"cara_pembayaran\" in col:\n",
    "        n1 += df[col].count()\n",
    "\n",
    "lb1, ub1 = ci_proportion((ni1/n1), n1, alpha)\n",
    "\n",
    "print(f\"{np.round(lb1*100, 5)}% < p_hat < {np.round(ub1*100, 5)}%\")"
   ]
  },
  {
   "cell_type": "code",
   "execution_count": 534,
   "metadata": {},
   "outputs": [
    {
     "name": "stdout",
     "output_type": "stream",
     "text": [
      "22.83152% < p_hat < 28.68363%\n"
     ]
    }
   ],
   "source": [
    "# Menghitung CI 95% untuk proporsi responden yang memilih belanja offline karena\n",
    "# bisa memilih barang secara langsung\n",
    "ni2 = df[\"alasan_belanja_offline_1\"].count()\n",
    "n2 = 0\n",
    "for col in df.columns:\n",
    "    if \"alasan_belanja\" in col:\n",
    "        n2 += df[col].count()\n",
    "\n",
    "lb2, ub2 = ci_proportion((ni2/n2), n2, alpha)\n",
    "\n",
    "print(f\"{np.round(lb2*100, 5)}% < p_hat < {np.round(ub2*100, 5)}%\")"
   ]
  },
  {
   "cell_type": "code",
   "execution_count": 535,
   "metadata": {},
   "outputs": [
    {
     "name": "stdout",
     "output_type": "stream",
     "text": [
      "9.02768% < p_hat < 15.36256%\n"
     ]
    }
   ],
   "source": [
    "# Menghitung CI 95% untuk proporsi responden yang mengeluhkan kekurangan jumlah barang\n",
    "# ketika berbelanja secara online\n",
    "ni3 = df[\"keluhan_belanja_online_4\"].count()\n",
    "n3 = 0\n",
    "for col in df.columns:\n",
    "    if \"keluhan_belanja\" in col:\n",
    "        n3 += df[col].count()\n",
    "\n",
    "lb3, ub3 = ci_proportion((ni3/n3), n3, alpha)\n",
    "\n",
    "print(f\"{np.round(lb3*100, 5)}% < p_hat < {np.round(ub3*100, 5)}%\")"
   ]
  },
  {
   "cell_type": "markdown",
   "metadata": {},
   "source": [
    "# b. One sample Z-test for proportion dengan alpha = 5% (lakukan 3 tes untuk variabel yang berbeda, variabel bebas)"
   ]
  },
  {
   "cell_type": "code",
   "execution_count": 536,
   "metadata": {},
   "outputs": [
    {
     "name": "stdout",
     "output_type": "stream",
     "text": [
      "z: 2.969247979949395\n",
      "z_alpha: 1.6448536269514722\n",
      "z_alpha/2: 1.959963984540054\n",
      "\n"
     ]
    },
    {
     "data": {
      "text/plain": [
       "('Di dalam critical region, reject H0', 0.0029852958)"
      ]
     },
     "execution_count": 536,
     "metadata": {},
     "output_type": "execute_result"
    }
   ],
   "source": [
    "# Menguji proporsi responden yang menggunakan GoFood dibandingkan\n",
    "# total seluruh responden yang menggunakan layanan food delivery pada sampel ini\n",
    "\n",
    "# H0: proporsi = 40%\n",
    "# H1: proporsi != 40%\n",
    "n1 = df[\"50. Apakah Anda pernah menggunakan layanan Food Delivery (pembelian makanan/ minuman secara online )? Jika Pernah, mohon sebutkan layanan yang PALING sering Anda gunakan?\"].count()\n",
    "ni1 = len(df.loc[df[\"50. Apakah Anda pernah menggunakan layanan Food Delivery (pembelian makanan/ minuman secara online )? Jika Pernah, mohon sebutkan layanan yang PALING sering Anda gunakan?\"] == \"GoFood\"])\n",
    "onesample_proportion_test(0.40, (ni1/n1), n1, alpha, \"!=\")"
   ]
  },
  {
   "cell_type": "code",
   "execution_count": 537,
   "metadata": {},
   "outputs": [
    {
     "name": "stdout",
     "output_type": "stream",
     "text": [
      "z: -20.88172673961392\n",
      "z_alpha: 1.6448536269514722\n",
      "z_alpha/2: 1.959963984540054\n",
      "\n"
     ]
    },
    {
     "data": {
      "text/plain": [
       "('Di luar critical region, fail to reject H0', 1.0)"
      ]
     },
     "execution_count": 537,
     "metadata": {},
     "output_type": "execute_result"
    }
   ],
   "source": [
    "# Menguji proporsi responden yang lebih memilih menggunakan Shopee dibandingkan\n",
    "# total ecommerce yang \"lebih disukai\" dalam keseluruhan sampel ini\n",
    "\n",
    "# H0: Proporsi = 60%\n",
    "# H1: Proporsi > 60%\n",
    "ni2 = df[\"ecommerce_pilihan_1\"].count()\n",
    "n2 = 0\n",
    "for col in df.columns:\n",
    "    if \"ecommerce_pilihan\" in col:\n",
    "        n2 += df[col].count()\n",
    "onesample_proportion_test(0.60, (ni2/n2), n2, alpha, \">\")"
   ]
  },
  {
   "cell_type": "code",
   "execution_count": 538,
   "metadata": {},
   "outputs": [
    {
     "name": "stdout",
     "output_type": "stream",
     "text": [
      "z: -10.78664109054622\n",
      "z_alpha: 1.6448536269514722\n",
      "z_alpha/2: 1.959963984540054\n",
      "\n"
     ]
    },
    {
     "data": {
      "text/plain": [
       "('Di dalam critical region, reject H0', 0.0)"
      ]
     },
     "execution_count": 538,
     "metadata": {},
     "output_type": "execute_result"
    }
   ],
   "source": [
    "# Menguji proporsi responden yang belanja online menggunakan Facebook dibandingkan\n",
    "# total pengguna platform belanja online keseluruhan sampel ini\n",
    "\n",
    "# H0: Proporsi = 20%\n",
    "# H1: Proporsi < 20%\n",
    "ni3 = df[\"tempat_belanja_online_6\"].count()\n",
    "n3 = 0\n",
    "for col in df.columns:\n",
    "    if \"tempat_belanja_online\" in col:\n",
    "        n3 += df[col].count()\n",
    "\n",
    "onesample_proportion_test(0.20, (ni3/n3), n3, alpha, \"<\")"
   ]
  },
  {
   "cell_type": "markdown",
   "metadata": {},
   "source": [
    "# c. Chi-squared test for goodness-of-fit test dengan alpha = 5% (H0: data distribution = uniform distribution, H1: data distribution ≠ uniform distribution) (lakukan 2 tes untuk variabel yang berbeda, variabel bebas)"
   ]
  },
  {
   "cell_type": "markdown",
   "metadata": {},
   "source": [
    "Hipotesis di bawah ini berlaku untuk semua Chi2 Test for Goodness of Fit:\n",
    "\n",
    "H0: Distribusi uniform\n",
    "\n",
    "H1: Distribusi tidak uniform"
   ]
  },
  {
   "cell_type": "code",
   "execution_count": 539,
   "metadata": {},
   "outputs": [
    {
     "name": "stdout",
     "output_type": "stream",
     "text": [
      "Frekuensi ril: [55  5  7 16]\n",
      "\n",
      "Frekuensi ekspektasi: [26.724160596828913, 29.356157251037658, 19.31351714241871, 7.606165009714719]\n",
      "\n",
      "Nilai chi2: 67.23905421984865\n",
      "\n",
      "Nilai chi2alpha: 7.814727903251179\n",
      "\n"
     ]
    },
    {
     "data": {
      "text/plain": [
       "('Reject H0', 0.0)"
      ]
     },
     "execution_count": 539,
     "metadata": {},
     "output_type": "execute_result"
    }
   ],
   "source": [
    "# Ekspektasi distribusi usia responden yang berdomisili\n",
    "# di Bandung = distribusi uniform\n",
    "chi2_gof(df.loc[df[\"Domisili\"] == \"Bandung\"], \"Usia\", alpha)"
   ]
  },
  {
   "cell_type": "code",
   "execution_count": 540,
   "metadata": {},
   "outputs": [
    {
     "name": "stdout",
     "output_type": "stream",
     "text": [
      "Frekuensi ril: [18 23  7  1]\n",
      "\n",
      "Frekuensi ekspektasi: [15.261434872330968, 22.935324258562773, 9.676799910794829, 1.126440958311433]\n",
      "\n",
      "Nilai chi2: 1.246250196482351\n",
      "\n",
      "Nilai chi2alpha: 7.814727903251179\n",
      "\n"
     ]
    },
    {
     "data": {
      "text/plain": [
       "('Fail to Reject H0', 0.7419342961)"
      ]
     },
     "execution_count": 540,
     "metadata": {},
     "output_type": "execute_result"
    }
   ],
   "source": [
    "# Ekspektasi distribusi durasi penggunaan internet per hari responden yang\n",
    "# berpendapatan menengah = distribusi uniform\n",
    "chi2_gof(df.loc[df[\"Kategori Penghasilan\"] == \"Menengah\"], \"Durasi Penggunaan Internet per Hari (dalam Jam)\", alpha)"
   ]
  },
  {
   "cell_type": "markdown",
   "metadata": {},
   "source": [
    "# (4) Bivariate Analysis"
   ]
  },
  {
   "cell_type": "code",
   "execution_count": 541,
   "metadata": {},
   "outputs": [],
   "source": [
    "alpha = 0.5"
   ]
  },
  {
   "cell_type": "code",
   "execution_count": 542,
   "metadata": {},
   "outputs": [],
   "source": [
    "from scipy.stats import norm, chisquare, chi2, chi2_contingency\n",
    "\n",
    "def ci_proportion_2(ni1, ni2, n1, n2, alpha):\n",
    "# fungsi mengembalikan sepasang nilai (lb, ub)\n",
    "    phat1 = ni1/n1\n",
    "    phat2 = ni2/n2\n",
    "    d_phat = phat1-phat2\n",
    "    z_alphaper2 = norm.ppf(1-(alpha/2))\n",
    "    moe = z_alphaper2 * np.sqrt((phat1*(1-phat1)/n1)+(phat2*(1-phat2)/n2))\n",
    "    return (d_phat-moe, d_phat+moe)\n",
    "\n",
    "def twosample_proportion_test(ni1, ni2, n1, n2, alpha, type):\n",
    "# fungsi mengembalikan kesimpulan dan p_value\n",
    "    phat1 = ni1/n1\n",
    "    phat2 = ni2/n2\n",
    "    phat = (ni1+ni2)/(n1+n2)\n",
    "    z_alpha = norm.ppf(1-alpha)\n",
    "    z_alphaper2 = norm.ppf(1-alpha/2)\n",
    "    \n",
    "    z_val = (phat1-phat2)/np.sqrt(phat*(1-phat)*(1/n1+1/n2))\n",
    "    kesimpulan = \"Di luar critical region, fail to reject H0\" #default\n",
    "    reject_H0 = \"Di dalam critical region, reject H0\"\n",
    "    \n",
    "    if (type == \"!=\"):\n",
    "        p_val = 2 * (1 - norm.cdf(np.abs(z_val)))\n",
    "        if (z_val < (-1*z_alphaper2) or z_val > z_alphaper2):\n",
    "            kesimpulan = reject_H0\n",
    "    elif (type == \"<\"):\n",
    "        p_val = norm.cdf(z_val)\n",
    "        if (z_val < z_alpha):\n",
    "            kesimpulan = reject_H0\n",
    "    elif (type == \">\"):\n",
    "        p_val = (1 - norm.cdf(z_val))\n",
    "        if (z_val > z_alpha):\n",
    "            kesimpulan = reject_H0\n",
    "    \n",
    "    print(f\"z: {z_val}\\nz_alpha: {z_alpha}\\nz_alpha/2: {z_alphaper2}\\n\")\n",
    "    return (kesimpulan, np.round(p_val, 10))\n",
    "\n",
    "def chi2_tfi(dataframe, colname1, colname2, alpha):\n",
    "    ct = pd.crosstab(dataframe[colname1], dataframe[colname2])\n",
    "    chi2_stat, pval, dof, expected = chi2_contingency(ct)\n",
    "    \n",
    "    print(\"Nilai chi2:\", chi2_stat)\n",
    "    print(\"Nilai p-value:\", np.round(pval, 10))\n",
    "    \n",
    "    if pval < alpha:\n",
    "        return (\"Reject H0. Ada ketergantungan antara kedua variabel.\")\n",
    "    else:\n",
    "        return (\"Fail to Reject H0. Tidak ada cukup bukti untuk menentukan ketergantungan antara kedua variabel.\")\n",
    "\n",
    "def chi2_homogenity(dataframe, groupcol, catcol, alpha):\n",
    "    ct = pd.crosstab(dataframe[groupcol], dataframe[catcol])\n",
    "    chi2_stat, pval, dof, expected = chi2_contingency(ct)\n",
    "    \n",
    "    print(\"Nilai chi2:\", chi2_stat)\n",
    "    print(\"Nilai p-value:\", np.round(pval, 10))\n",
    "    \n",
    "    if pval < alpha:\n",
    "        return (\"Reject H0. Distribusi sangat beragam antar kategori pengelompokan (Heterogen).\")\n",
    "    else:\n",
    "        return (\"Fail to Reject H0. Tidak ada cukup bukti untuk menentukan heterogenitas distribusi variabel dalam tiap kategori pengelompokan (Homogen).\")\n"
   ]
  },
  {
   "cell_type": "markdown",
   "metadata": {},
   "source": [
    "# Confidence interval 95% for two-sample proportion difference (lakukan 3 tes untuk sepasang variabel yang berbeda, pasangan variabel bebas)"
   ]
  },
  {
   "cell_type": "code",
   "execution_count": 543,
   "metadata": {},
   "outputs": [
    {
     "name": "stdout",
     "output_type": "stream",
     "text": [
      "-33.00753% < p_hat < -25.73373%\n"
     ]
    }
   ],
   "source": [
    "# Menghitung CI 95% untuk selisih proporsi responden wanita yang berpenghasilan tinggi dari seluruh responden wanita pada sampel ini\n",
    "# dengan proporsi responden wanita yang berpenghasilan rendah dari seluruh responden wanita pada sampel ini\n",
    "\n",
    "# H0: selisih = 0\n",
    "# H1: selisih != 0\n",
    "newdf = df.loc[df[\"Jenis Kelamin\"] == \"Wanita\"]\n",
    "n1 = len(newdf)\n",
    "n2 = n1\n",
    "ni1 = len(newdf.loc[df[\"Kategori Penghasilan\"] == \"Tinggi\"])\n",
    "ni2 = len(newdf.loc[df[\"Kategori Penghasilan\"] == \"Rendah\"])\n",
    "\n",
    "lb, ub = ci_proportion_2(ni1, ni2, n1, n2, alpha)\n",
    "\n",
    "print(f\"{np.round(lb*100, 5)}% < p_hat < {np.round(ub*100, 5)}%\")"
   ]
  },
  {
   "cell_type": "code",
   "execution_count": 544,
   "metadata": {},
   "outputs": [
    {
     "name": "stdout",
     "output_type": "stream",
     "text": [
      "-16.94537% < p_hat < -5.82571%\n"
     ]
    }
   ],
   "source": [
    "# Menghitung CI 95% untuk selisih proporsi responden asal Bandung yang berpendidikan S2 dari seluruh responden asal Bandung pada sampel ini\n",
    "# dengan proporsi responden asal Tanggerang yang berpendidikan S2 dari seluruh responden asal Tanggerang pada sampel ini\n",
    "\n",
    "# H0: selisih = 0\n",
    "# H1: selisih != 0\n",
    "n1 = len(df.loc[(df[\"Domisili\"] == \"Bandung\")])\n",
    "n2 = len(df.loc[(df[\"Domisili\"] == \"Tangerang\")])\n",
    "ni1 = len(df.loc[(df[\"Domisili\"] == \"Bandung\") & (df[\"Pendidikan Terakhir\"] == \"S2\")])\n",
    "ni2 = len(df.loc[(df[\"Domisili\"] == \"Tangerang\") & (df[\"Pendidikan Terakhir\"] == \"S2\")])\n",
    "\n",
    "lb, ub = ci_proportion_2(ni1, ni2, n1, n2, alpha)\n",
    "\n",
    "print(f\"{np.round(lb*100, 5)}% < p_hat < {np.round(ub*100, 5)}%\")"
   ]
  },
  {
   "cell_type": "code",
   "execution_count": 545,
   "metadata": {},
   "outputs": [
    {
     "name": "stdout",
     "output_type": "stream",
     "text": [
      "-12.47118% < p_hat < -6.83916%\n"
     ]
    }
   ],
   "source": [
    "# Menghitung CI 95% untuk selisih proporsi responden pria yang menggunakan internet banking dari seluruh responden Pria pada sampel ini\n",
    "# dengan proporsi responden pria yang menggunakan kartu kredit dari seluruh responden Pria pada sampel ini\n",
    "\n",
    "# H0: selisih = 0\n",
    "# H1: selisih != 0\n",
    "newdf = df.loc[df[\"Jenis Kelamin\"] == \"Pria\"]\n",
    "n1 = len(newdf)\n",
    "n2 = n1\n",
    "ni1 = newdf[\"layanan_aktif_3\"].count() #kartu kredit\n",
    "ni2 = newdf[\"layanan_aktif_4\"].count() #i-banking\n",
    "\n",
    "lb, ub = ci_proportion_2(ni1, ni2, n1, n2, alpha)\n",
    "\n",
    "print(f\"{np.round(lb*100, 5)}% < p_hat < {np.round(ub*100, 5)}%\")"
   ]
  },
  {
   "cell_type": "code",
   "execution_count": 546,
   "metadata": {},
   "outputs": [
    {
     "data": {
      "text/plain": [
       "(145, 145, 15, 29)"
      ]
     },
     "execution_count": 546,
     "metadata": {},
     "output_type": "execute_result"
    }
   ],
   "source": [
    "n1, n2, ni1, ni2"
   ]
  },
  {
   "cell_type": "markdown",
   "metadata": {},
   "source": [
    "# Two-samples Z-test for proportion difference dengan alpha = 5% (lakukan 3 tes untuk sepasang variabel yang berbeda, pasangan variabel bebas)"
   ]
  },
  {
   "cell_type": "code",
   "execution_count": 547,
   "metadata": {},
   "outputs": [
    {
     "name": "stdout",
     "output_type": "stream",
     "text": [
      "z: 0.4278665960850811\n",
      "z_alpha: 0.0\n",
      "z_alpha/2: 0.6744897501960817\n",
      "\n"
     ]
    },
    {
     "data": {
      "text/plain": [
       "('Di luar critical region, fail to reject H0', 0.6687482481)"
      ]
     },
     "execution_count": 547,
     "metadata": {},
     "output_type": "execute_result"
    }
   ],
   "source": [
    "# Menguji selisih proporsi responden yang menggunakan Ovo dibandingkan\n",
    "# total seluruh responden yang menggunakan emoney pada sampel ini\n",
    "# dengan proporsi responden yang menggunakan ShopeePay dibandingkan\n",
    "# total seluruh responden yang menggunakan emoney pada sampel ini\n",
    "\n",
    "# H0: Selisih proporsi = 0\n",
    "# H1: Selisih proporsi != 0\n",
    "ni1 = df[\"emoney_pilihan_3\"].count()\n",
    "ni2 = df[\"emoney_pilihan_2\"].count()\n",
    "n = 0\n",
    "for col in df.columns:\n",
    "    if \"emoney_pilihan_\" in col:\n",
    "        n += df[col].count()\n",
    "twosample_proportion_test(ni1, ni2, n, n, alpha, \"!=\")"
   ]
  },
  {
   "cell_type": "code",
   "execution_count": 548,
   "metadata": {},
   "outputs": [
    {
     "name": "stdout",
     "output_type": "stream",
     "text": [
      "z: -3.794243643958749\n",
      "z_alpha: 0.0\n",
      "z_alpha/2: 0.6744897501960817\n",
      "\n"
     ]
    },
    {
     "data": {
      "text/plain": [
       "('Di dalam critical region, reject H0', 7.40471e-05)"
      ]
     },
     "execution_count": 548,
     "metadata": {},
     "output_type": "execute_result"
    }
   ],
   "source": [
    "# Menguji selisih proporsi responden yang menggunakan bank BRI dibandingkan\n",
    "# total seluruh responden yang menggunakan bank pada sampel ini\n",
    "# dengan proporsi responden yang menggunakan bank Mandiri dibandingkan\n",
    "# total seluruh responden yang menggunakan bank pada sampel ini\n",
    "\n",
    "# H0: Selisih proporsi = 0\n",
    "# H1: Selisih proporsi < 0\n",
    "ni1 = df[\"bank_5\"].count()\n",
    "ni2 = df[\"bank_2\"].count()\n",
    "n = 0\n",
    "for col in df.columns:\n",
    "    if \"bank_\" in col:\n",
    "        # print(col)\n",
    "        n += df[col].count()\n",
    "twosample_proportion_test(ni1, ni2, n, n, alpha, \"<\")"
   ]
  },
  {
   "cell_type": "code",
   "execution_count": 549,
   "metadata": {},
   "outputs": [
    {
     "name": "stdout",
     "output_type": "stream",
     "text": [
      "z: -3.9713338697251386\n",
      "z_alpha: 0.0\n",
      "z_alpha/2: 0.6744897501960817\n",
      "\n"
     ]
    },
    {
     "data": {
      "text/plain": [
       "('Di luar critical region, fail to reject H0', 0.9999642643)"
      ]
     },
     "execution_count": 549,
     "metadata": {},
     "output_type": "execute_result"
    }
   ],
   "source": [
    "# Menguji selisih proporsi responden yang frekuensi belanja onlinenya\n",
    "# meningkat dibandingkan total seluruh responden pada sampel ini\n",
    "# dengan proporsi responden yang frekuensi belanja onlinenya\n",
    "# menurun dibandingkan total seluruh responden pada sampel ini\n",
    "\n",
    "# H0: Selisih proporsi = 0\n",
    "# H1: Selisih proporsi > 0\n",
    "n = df[\"45. Bagaimana frekuensi Anda melakukan belanja online dalam 6 bulan terakhir?\"].count()\n",
    "ni1 = len(df.loc[df[\"45. Bagaimana frekuensi Anda melakukan belanja online dalam 6 bulan terakhir?\"] == \"Menurun\"])\n",
    "ni2 = len(df.loc[df[\"45. Bagaimana frekuensi Anda melakukan belanja online dalam 6 bulan terakhir?\"] == \"Meningkat\"])\n",
    "\n",
    "twosample_proportion_test(ni1, ni2, n, n, alpha, \">\")"
   ]
  },
  {
   "cell_type": "markdown",
   "metadata": {},
   "source": [
    "# Chi-squared test for independence dengan alpha = 5% (lakukan 2 tes untuk sepasang variabel yang berbeda, pasangan variabel bebas)"
   ]
  },
  {
   "cell_type": "markdown",
   "metadata": {},
   "source": [
    "Hipotesis di bawah ini berlaku untuk semua Chi2 Test for Independence:\n",
    "\n",
    "H0: Tidak ada ketergantungan antar-variabel (variables are independent)\n",
    "\n",
    "H1: Ada ketergantungan antar-variabel (variables are dependent)"
   ]
  },
  {
   "cell_type": "code",
   "execution_count": 550,
   "metadata": {},
   "outputs": [
    {
     "name": "stdout",
     "output_type": "stream",
     "text": [
      "Nilai chi2: 11.377596313670871\n",
      "Nilai p-value: 0.0098498563\n"
     ]
    },
    {
     "data": {
      "text/plain": [
       "'Reject H0. Ada ketergantungan antara kedua variabel.'"
      ]
     },
     "execution_count": 550,
     "metadata": {},
     "output_type": "execute_result"
    }
   ],
   "source": [
    "# Menguji dependensi antara jenis kelamin dan tingkat pendidikan\n",
    "chi2_tfi(df, \"Jenis Kelamin\", \"Penghasilan per Bulan\", alpha)"
   ]
  },
  {
   "cell_type": "code",
   "execution_count": 551,
   "metadata": {},
   "outputs": [
    {
     "name": "stdout",
     "output_type": "stream",
     "text": [
      "Nilai chi2: 89.95557481340614\n",
      "Nilai p-value: 0.4814929531\n"
     ]
    },
    {
     "data": {
      "text/plain": [
       "'Reject H0. Ada ketergantungan antara kedua variabel.'"
      ]
     },
     "execution_count": 551,
     "metadata": {},
     "output_type": "execute_result"
    }
   ],
   "source": [
    "# Menguji dependensi antara pekerjaan dan tingkat penghasilan\n",
    "chi2_tfi(df, \"Pendidikan Terakhir\", \"Domisili\", alpha)"
   ]
  },
  {
   "cell_type": "markdown",
   "metadata": {},
   "source": [
    "## Chi2 Test for Homogenity"
   ]
  },
  {
   "cell_type": "markdown",
   "metadata": {},
   "source": [
    "Hipotesis di bawah ini berlaku untuk semua Chi2 Test for Homogenity:\n",
    "\n",
    "H0 : Distribusi homogen antar kategori pengelompokan\n",
    "\n",
    "H1 : Distribusi heterogen antar kategori pengelompokan"
   ]
  },
  {
   "cell_type": "code",
   "execution_count": 552,
   "metadata": {},
   "outputs": [
    {
     "name": "stdout",
     "output_type": "stream",
     "text": [
      "Nilai chi2: 76.09923860394075\n",
      "Nilai p-value: 4e-10\n"
     ]
    },
    {
     "data": {
      "text/plain": [
       "'Reject H0. Distribusi sangat beragam antar kategori pengelompokan (Heterogen).'"
      ]
     },
     "execution_count": 552,
     "metadata": {},
     "output_type": "execute_result"
    }
   ],
   "source": [
    "# Menguji homogenitas distribusi nominal topup emoney\n",
    "# per kategori penghasilan\n",
    "chi2_homogenity(df, \"Penghasilan per Bulan\", \"39. Berapa biasanya nominal Anda melakukan top up/ isi ulang?\", alpha)"
   ]
  },
  {
   "cell_type": "code",
   "execution_count": 553,
   "metadata": {},
   "outputs": [
    {
     "name": "stdout",
     "output_type": "stream",
     "text": [
      "Nilai chi2: 15.645317702899872\n",
      "Nilai p-value: 0.4060074539\n"
     ]
    },
    {
     "data": {
      "text/plain": [
       "'Reject H0. Distribusi sangat beragam antar kategori pengelompokan (Heterogen).'"
      ]
     },
     "execution_count": 553,
     "metadata": {},
     "output_type": "execute_result"
    }
   ],
   "source": [
    "# Menguji homogenitas distribusi frekuensi top up emoney\n",
    "# per kategori layanan food delivery pilihan\n",
    "chi2_homogenity(df, \"50. Apakah Anda pernah menggunakan layanan Food Delivery (pembelian makanan/ minuman secara online )? Jika Pernah, mohon sebutkan layanan yang PALING sering Anda gunakan?\", \"40. Berapa frekuensi top up/ Isi ulang ?\", alpha)"
   ]
  },
  {
   "cell_type": "markdown",
   "metadata": {},
   "source": [
    "# (5) Insight StoryTelling"
   ]
  },
  {
   "cell_type": "markdown",
   "metadata": {},
   "source": [
    "Analisis yang dilakukan  kali ini dimulai dengan analisis univariat. Dalam analisis univariat ini, interval kepercayaan pada tingkat kepercayaan 95% ditentukan untuk proporsi  variabel berikut: \n",
    "1. Pengguna metode pembayaran PayLater \n",
    "2. Responden yang memilih belanja offline karena bisa langsung memilih produk \n",
    "3. Responden yang tidak puas dengan kurangnya jumlah produk saat belanja online"
   ]
  },
  {
   "cell_type": "markdown",
   "metadata": {},
   "source": [
    "Dari univariate analysis tersebut, bisa diestimasikan dengan kepercayaan 95% bahwa pada populasi, nilai proporsi untuk setiap variabel di atas akan berada dalam selang:\n",
    "\n",
    "|No.| Variabel | Batas Bawah | Batas Atas |\n",
    "|---| --- | --- | --- |\n",
    "|1.| Pengguna Paylater | 1.25279% | 3.60305% |\n",
    "|2.| Berbelanja Offline Karena Bisa Langsung Memilih Barang | 22.83152% | 28.68363% |\n",
    "|3.| Keluhan Jumlah Barang Kurang Ketika Belanja Online | 9.02768% | 15.36256% |"
   ]
  },
  {
   "cell_type": "markdown",
   "metadata": {},
   "source": [
    "Estimasi dari hasil analisa di atas didapatkan proporsi responden pengguna paylater dibandingkan pengguna metode pembayaran lain **sangat kecil yaitu 1.25279% - 3.60305%**. Selain itu, proporsi responden yang memilih berbelanja offline karena bisa memilih barang secara langsung juga **cukup besar yaitu 22.83152% - 28.68363%**, mengingat ada 7 pilihan opsi alasan terkait hal ini."
   ]
  },
  {
   "cell_type": "markdown",
   "metadata": {},
   "source": [
    "Selain itu, pada analisis univariat, dilakukan juga uji hipotesis proporsi terhadap variabel-variabel berikut: \n",
    "1. Pengguna GoFood dari seluruh pengguna layanan pesan-antar makanan dalam sampel ini \n",
    "2. Pengguna yang lebih memilih  Shopee dari seluruh pengguna e-commerce \"Pilihan\" dalam sampel ini \n",
    "3. Pengguna Facebook dari seluruh pengguna belanja online\n"
   ]
  },
  {
   "cell_type": "markdown",
   "metadata": {},
   "source": [
    "Dari hasil pengujian, didapatkan bahwa hal menarik bahwa:\n",
    "\n",
    "1. Pengguna GoFood adalah sekitar 50% dari keseluruhan pengguna layanan food delivery pada sampel ini\n",
    "2. Kurang dari 60% pengguna memilih Shopee sebagai platform ecommerce pilihan.\n",
    "3. Kurang dari 20% pengguna tempat belanja online menggunakan Facebook."
   ]
  },
  {
   "cell_type": "markdown",
   "metadata": {},
   "source": [
    "Temuan ini cukup menarik karena: \n",
    "\n",
    "1. Dari lima layanan pesan-antar makanan yang disurvei, sekitar 50% merespons GoFood. Ini persentase yang  besar karena hanya ada 5 pilihan.\n",
    "\n",
    "2. Menurut [databooks.katadata.co.id](https://databoks.katadata.co.id/datapublish/2023/10/11/pengunjung-shopee-makin-banyak-bagaimana-e-commerce-lain#:~:text=Menurut%20data%20Similarweb%2C%20saat%20ini,to%2Ddate%2Fytd), Shopee merupakan ecommerce dengan ranking tertinggi di Indonesia. Namun kurang dari 60% responden lebih memilih menggunakan Shopee.\n",
    "\n",
    "3. Menurut [dailysocial.co.id](https://dailysocial.id/post/tips-facebook-marketplace#:~:text=Sejak%20peluncurannya%2C%20Facebook%20Marketplace%20telah,transaksi%20yang%20terjadi%20setiap%20tahun), Facebook Marketplace telah menjadi salah satu platform jual beli paling populer di dunia. Namun berdasarkan analisa di atas kurang dari 20% responden yang menggunakan Facebook."
   ]
  },
  {
   "cell_type": "markdown",
   "metadata": {},
   "source": [
    "Terakhir, dalam univariate analysis, dilakukan uji \"Goodness of Fit\" untuk menguji apakah distribusi data pada suatu subkategori dataset mengikuti distribusi normal. Dalam analisa kali ini, diuji dua hal:\n",
    "\n",
    "1. Apakah usia responden yang berasal dari Bandung pada sampel ini terdistribusi normal?\n",
    "2. Apakah durasi penggunaan internet per hari responden dengan pendapatan tinggi pada sampel ini terdistribusi normal?\n",
    "\n",
    "Jawaban dari kedua pertanyaan di atas, sesuai uji yang dilakukan, berturut-turut adalah: Tidak dan iya."
   ]
  },
  {
   "cell_type": "markdown",
   "metadata": {},
   "source": [
    "Temuan ini menarik karena bisa memperkuat hipotesis bahwa:\n",
    "\n",
    "1. Usia muda lebih mendominasi populasi orang di kota besar\n",
    "2. Tidak semua orang yang berpendapatan tinggi menghabiskan waktu yang lama dalam menggunakan internet."
   ]
  },
  {
   "cell_type": "code",
   "execution_count": 554,
   "metadata": {},
   "outputs": [
    {
     "data": {
      "image/png": "[encoded data removed]",
      "text/plain": [
       "<Figure size 640x480 with 1 Axes>"
      ]
     },
     "metadata": {},
     "output_type": "display_data"
    }
   ],
   "source": [
    "sns.histplot(data=df.loc[df[\"Domisili\"] == \"Bandung\"], x=\"Usia\")\n",
    "plt.title(\"Distribusi Usia Responden dari Bandung\")\n",
    "plt.show()"
   ]
  },
  {
   "cell_type": "code",
   "execution_count": 555,
   "metadata": {},
   "outputs": [
    {
     "data": {
      "image/png": "[encoded data removed]",
      "text/plain": [
       "<Figure size 640x480 with 1 Axes>"
      ]
     },
     "metadata": {},
     "output_type": "display_data"
    }
   ],
   "source": [
    "sns.histplot(data=df.loc[df[\"Kategori Penghasilan\"] == \"Tinggi\"], x=\"Durasi Penggunaan Internet per Hari (dalam Jam)\", color=sns.color_palette(\"pastel\")[2])\n",
    "plt.title(\"Distribusi Durasi Penggunaan Internet per Hari Responden yang Berpendapatan Tinggi\")\n",
    "plt.show()"
   ]
  },
  {
   "cell_type": "markdown",
   "metadata": {},
   "source": [
    "# Insight Bivariate Analysis"
   ]
  },
  {
   "cell_type": "markdown",
   "metadata": {},
   "source": [
    "Setelah univariate analysis, dilakukan juga bivariate analysis untuk melihat hubungan-hubungan antara dua variabel dari dataset. Bivariate analysis yang pertama dilakukan adalah mencari selang kepercayaan 95% untuk selisih proporsi dua variabel."
   ]
  },
  {
   "cell_type": "markdown",
   "metadata": {},
   "source": [
    "Selang kepercayaan 95% dicari untuk selisih proporsi ketiga pasangan variabel berikut:\n",
    "\n",
    "1. Proporsi responden wanita yang berpenghasilan tinggi dari seluruh responden wanita pada sampel ini dengan proporsi responden wanita yang berpenghasilan rendah dari seluruh responden wanita pada sampel ini\n",
    "2. Proporsi responden asal Bandung yang berpendidikan S2 dari seluruh responden asal Bandung pada sampel ini dengan proporsi responden asal Tangerang yang berpendidikan S2 dari seluruh responden asal Tangerang pada sampel ini\n",
    "3. Proporsi responden pria yang menggunakan internet banking dari seluruh responden Pria pada sampel ini dengan proporsi responden pria yang menggunakan kartu kredit dari seluruh responden Pria pada sampel ini\n",
    "\n",
    "Berikut adalah hasil kalkulasi untuk selang kepercayaan 95% masing-masing pasangan di atas:\n",
    "\n",
    "|No.| Variabel | Batas Bawah | Batas Atas |\n",
    "|---| --- | --- | --- |\n",
    "|1.| Wanita Berpenghasilan Tinggi - Wanita Berpenghasilan Rendah | -33.00753% | -25.73373% |\n",
    "|2.| S2 dari Bandung - S2 dari Tangerang | -16.94537% | -5.82571% |\n",
    "|3.| Pria Pengguna i-Banking - Pria Pengguna Kartu Kredit | -12.47118% | -6.83916% |\n",
    "\n",
    "Dari hasil yang tertera pada tabel di atas, bisa diestimasi bahwa pada populasi ini proporsi wanita yang berpenghasilan rendah **cukup banyak** dibandingkan proporsi wanita yang berpenghasilan tinggi (-33.00753% - -25.73373%) dan proporsi responden Bandung yang mencapai pendidikan S2 **lebih sedikit** dengan proporsi responden Tangerang yang mencapai pendidikan S2 (-16.94537% - -5.82571%)\n"
   ]
  },
  {
   "cell_type": "markdown",
   "metadata": {},
   "source": [
    "Selanjutnya dilakukan juga uji hipotesis, tapi uji hipotesis kali ini dilakukannya z-test untuk selisih dua proporsi. Pasangan proporsi yang diuji adalah:\n",
    "\n",
    "1. **Proporsi responden** yang menggunakan **OVO** dibandingkan total seluruh responden yang menggunakan emoney pada sampel ini dengan **proporsi responden** yang menggunakan **Dana** dibandingkan total seluruh responden yang menggunakan emoney pada sampel ini.\n",
    "\n",
    "2. **Proporsi responden** yang menggunakan **bank BRI** dibandingkan total seluruh responden yang menggunakan bank pada sampel ini dengan **proporsi responden** yang menggunakan **bank Mandiri** dibandingkan total seluruh responden yang menggunakan bank pada sampel ini.\n",
    "\n",
    "3. **Proporsi responden** yang frekuensi belanja onlinenya **meningkat** dibandingkan total seluruh responden pada sampel ini dengan **proporsi responden** yang frekuensi belanja onlinenya **menurun** dibandingkan total seluruh responden pada sampel ini\n",
    "\n",
    "Hasil dari uji hipotesis ini menunjukkan:\n",
    "\n",
    "1. Proporsi responden yang menggunakan OVO dan proporsi responden yang menggunakan Dana hampir sama. Hal ini menarik karena bertolak belakang dengan hasil survei [cnbcindonesia.com](https://www.cnbcindonesia.com/tech/20220628115548-37-350996/peta-kompetisi-dompet-digital-indonesia-siapa-lebih-unggul/) bahwa popularitas OVO melebihi Dana.\n",
    "\n",
    "2. Proporsi responden yang menggunakan bank BRI lebih banyak daripada responden yang menggunakan bank Mandiri. Hal ini juga menarik karena juga bertolak belakang dengan sumber [oyindonesia.com](https://www.oyindonesia.com/blog/5-bank-pengguna-terbanyak-dan-terbesar-di-indonesia) yang menyatakan bahwa bank Mandiri memang memiliki jumlah nasabah lebih banyak dibandingkan bank BRI.\n",
    "\n",
    "3. Proporsi responden yang frekuensi belanja onlinenya meningkat hampir sama dengan proporsi responden yang frekuensi belanja onlinenya menurun.\n",
    "\n"
   ]
  },
  {
   "cell_type": "markdown",
   "metadata": {},
   "source": [
    "Terakhir adalah dua pengujian dengan Chi2, yaitu Chi2 Test for Independence dan Chi2 Test for Homogenity. Dari kedua tes ini, didapatkan dua hasil yang menarik yaitu: \n",
    "\n",
    "1. Tingkat pendidikan dan Domisili saling bergantung. Hal ini bisa mengimplikasikan bahwa Tingkat pendidikan di setiap Domisili masih kurang merata.\n",
    "\n",
    "2. Distribusi nominal topup emoney per kategori penghasilan itu heterogen, artinya bisa jadi orang yang berpenghasilan tinggi juga melakukan topup yang nominalnya kecil ataupun sebaliknya."
   ]
  },
  {
   "cell_type": "code",
   "execution_count": 556,
   "metadata": {},
   "outputs": [],
   "source": [
    "ins_df1 = df\n",
    "ins_df1[\"39. Berapa biasanya nominal Anda melakukan top up/ isi ulang?\"] = pd.Categorical(ins_df1[\"39. Berapa biasanya nominal Anda melakukan top up/ isi ulang?\"], categories=[\"Tidak menggunakan eMoney\", \"< Rp 50.000,-\", \"Rp 50.001 – Rp 100.000\", \"Rp 100.001 – Rp 150.000\",\n",
    "                                                                                                                                                                                \"Rp 150.001 – Rp 300.000\", \"Rp 300.000 - Rp 500.000\", \"> Rp 500.000\"], ordered= True)"
   ]
  },
  {
   "cell_type": "code",
   "execution_count": 557,
   "metadata": {},
   "outputs": [
    {
     "data": {
      "image/png": "[encoded data removed]",
      "text/plain": [
       "<Figure size 640x480 with 1 Axes>"
      ]
     },
     "metadata": {},
     "output_type": "display_data"
    }
   ],
   "source": [
    "sns.barplot(data=ins_df1.loc[df[\"Kategori Penghasilan\"] == \"Tinggi\"][\"39. Berapa biasanya nominal Anda melakukan top up/ isi ulang?\"])\n",
    "# plt.legend(bbox_to_anchor=(1.05, 1), loc=2, borderaxespad=0.)\n",
    "plt.title(\"Responden Berpenghasilan Tingkat Tinggi\")\n",
    "plt.show()"
   ]
  },
  {
   "cell_type": "code",
   "execution_count": 558,
   "metadata": {},
   "outputs": [
    {
     "data": {
      "image/png": "[encoded data removed]",
      "text/plain": [
       "<Figure size 640x480 with 1 Axes>"
      ]
     },
     "metadata": {},
     "output_type": "display_data"
    }
   ],
   "source": [
    "sns.barplot(data=ins_df1.loc[df[\"Kategori Penghasilan\"] == \"Rendah\"][\"39. Berapa biasanya nominal Anda melakukan top up/ isi ulang?\"])\n",
    "# plt.legend(bbox_to_anchor=(1.05, 1), loc=2, borderaxespad=0.)\n",
    "plt.title(\"Responden Berpenghasilan Tingkat Rendah\")\n",
    "plt.show()"
   ]
  },
  {
   "cell_type": "markdown",
   "metadata": {},
   "source": [
    "# Ringkasan Insights"
   ]
  },
  {
   "cell_type": "markdown",
   "metadata": {},
   "source": [
    "|No.| Jenis Analysis | Insight |\n",
    "|---| --- | --- |\n",
    "|1.| Univariate - Selang Kepercayaan | Proporsi pengguna paylater sangat kecil (1.25279% - 3.60305%) |\n",
    "|2.| Univariate - Selang Kepercayaan | Proporsi responden yang memilih berbelanja offline karena bisa memilih barang secara langsung cukup besar (22.83152% - 28.68363%) |\n",
    "|3.| Univariate - Uji Hipotesis | Sekitar 50% responden menjawab GoFood sebagai layanan food delivery pilihan |\n",
    "|4.| Univariate - Uji Hipotesis | Responden yang memilih Shopee tidak memenuhi ekspektasi [referensi](https://databoks.katadata.co.id/datapublish/2023/10/11/pengunjung-shopee-makin-banyak-bagaimana-e-commerce-lain#:~:text=Menurut%20data%20Similarweb%2C%20saat%20ini,to%2Ddate%2Fytd) (>60%) |\n",
    "|5.| Univariate - Goodness of Fit | Usia muda lebih mendominasi populasi di kota besar |\n",
    "|6.| Univariate - Goodness of Fit | Tidak semua orang berpendapatan tinggi menggunakan internet dengan durasi yang lama |\n",
    "|7.| Bivariate - Selang Kepercayaan | Proporsi responden wanita yang berpenghasilan rendah cukup banyak dibandingkan yang berpenghasilan tinggi (lebih banyak 26% sampai 33%) |\n",
    "|8.| Bivariate - Selang Kepercayaan | Proporsi responden S2 dari Bandung lebih sedikit  dibandingkan proporsi responden S2 dari Tangerang (selisihnya: -16.94537% sampai -5.82571%) |\n",
    "|9.| Bivariate - Uji Hipotesis | Proporsi responden yang menggunakan OVO dan Dana hampir sama, berbeda dengan sumber [cnbcindonesia.com](https://www.cnbcindonesia.com/tech/20220628115548-37-350996/peta-kompetisi-dompet-digital-indonesia-siapa-lebih-unggul/) |\n",
    "|10.| Bivariate - Uji Hipotesis | Proporsi responden yang menggunakan bank BRI lebih banyak daripada yang menggunakan bank Mandiri, berbeda dengan [oyindonesia.com](https://www.oyindonesia.com/blog/5-bank-pengguna-terbanyak-dan-terbesar-di-indonesia) |\n",
    "|11.| Bivariate - Chi2 Test | Tingkat Pendidikan dan Domisili saling bergantung |\n",
    "|12.| Bivariate - Chi2 Test | Distribusi nominal topup emoney per kategori penghasilan itu heterogen |"
   ]
  }
 ],
 "metadata": {
  "kernelspec": {
   "display_name": "Python 3",
   "language": "python",
   "name": "python3"
  },
  "language_info": {
   "codemirror_mode": {
    "name": "ipython",
    "version": 3
   },
   "file_extension": ".py",
   "mimetype": "text/x-python",
   "name": "python",
   "nbconvert_exporter": "python",
   "pygments_lexer": "ipython3",
   "version": "3.11.1"
  }
 },
 "nbformat": 4,
 "nbformat_minor": 2
}
